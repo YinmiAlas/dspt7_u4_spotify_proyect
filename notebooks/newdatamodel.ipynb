{
 "metadata": {
  "language_info": {
   "codemirror_mode": {
    "name": "ipython",
    "version": 3
   },
   "file_extension": ".py",
   "mimetype": "text/x-python",
   "name": "python",
   "nbconvert_exporter": "python",
   "pygments_lexer": "ipython3",
   "version": "3.8.3-final"
  },
  "orig_nbformat": 2,
  "kernelspec": {
   "name": "Python 3.8.3 64-bit ('dspt7_u4_spotify_proyect': pipenv)",
   "display_name": "Python 3.8.3 64-bit ('dspt7_u4_spotify_proyect': pipenv)",
   "metadata": {
    "interpreter": {
     "hash": "812560e523f78d96c5589cdf4b36b0ecfcefed82aca656aa7d1588b9dbe1912e"
    }
   }
  }
 },
 "nbformat": 4,
 "nbformat_minor": 2,
 "cells": [
  {
   "cell_type": "code",
   "execution_count": 1,
   "metadata": {},
   "outputs": [],
   "source": [
    "import pandas as pd\n",
    "import numpy as np \n",
    "import seaborn as sns\n",
    "import matplotlib.pyplot as plt\n",
    "from sklearn.cluster import KMeans\n",
    "from sklearn.preprocessing import StandardScaler\n",
    "from sklearn.model_selection import train_test_split\n",
    "\n",
    "# for modeling\n",
    "from sklearn.neighbors import NearestNeighbors\n",
    "from sklearn.model_selection import train_test_split"
   ]
  },
  {
   "cell_type": "code",
   "execution_count": 2,
   "metadata": {},
   "outputs": [
    {
     "output_type": "stream",
     "name": "stdout",
     "text": [
      "(170653, 19)\n"
     ]
    },
    {
     "output_type": "execute_result",
     "data": {
      "text/plain": [
       "   valence  year  acousticness  \\\n",
       "0   0.0594  1921         0.982   \n",
       "1   0.9630  1921         0.732   \n",
       "2   0.0394  1921         0.961   \n",
       "3   0.1650  1921         0.967   \n",
       "4   0.2530  1921         0.957   \n",
       "\n",
       "                                             artists  danceability  \\\n",
       "0  ['Sergei Rachmaninoff', 'James Levine', 'Berli...         0.279   \n",
       "1                                     ['Dennis Day']         0.819   \n",
       "2  ['KHP Kridhamardawa Karaton Ngayogyakarta Hadi...         0.328   \n",
       "3                                   ['Frank Parker']         0.275   \n",
       "4                                     ['Phil Regan']         0.418   \n",
       "\n",
       "   duration_ms  energy  explicit                      id  instrumentalness  \\\n",
       "0       831667   0.211         0  4BJqT0PrAfrxzMOxytFOIz          0.878000   \n",
       "1       180533   0.341         0  7xPhfUan2yNtyFG0cUWkt8          0.000000   \n",
       "2       500062   0.166         0  1o6I8BglA6ylDMrIELygv1          0.913000   \n",
       "3       210000   0.309         0  3ftBPsC5vPBKxYSee08FDH          0.000028   \n",
       "4       166693   0.193         0  4d6HGyGT8e121BsdKmw9v6          0.000002   \n",
       "\n",
       "   key  liveness  loudness  mode  \\\n",
       "0   10     0.665   -20.096     1   \n",
       "1    7     0.160   -12.441     1   \n",
       "2    3     0.101   -14.850     1   \n",
       "3    5     0.381    -9.316     1   \n",
       "4    3     0.229   -10.096     1   \n",
       "\n",
       "                                                name  popularity release_date  \\\n",
       "0  Piano Concerto No. 3 in D Minor, Op. 30: III. ...           4         1921   \n",
       "1                            Clancy Lowered the Boom           5         1921   \n",
       "2                                          Gati Bali           5         1921   \n",
       "3                                          Danny Boy           3         1921   \n",
       "4                        When Irish Eyes Are Smiling           2         1921   \n",
       "\n",
       "   speechiness    tempo  \n",
       "0       0.0366   80.954  \n",
       "1       0.4150   60.936  \n",
       "2       0.0339  110.339  \n",
       "3       0.0354  100.109  \n",
       "4       0.0380  101.665  "
      ],
      "text/html": "<div>\n<style scoped>\n    .dataframe tbody tr th:only-of-type {\n        vertical-align: middle;\n    }\n\n    .dataframe tbody tr th {\n        vertical-align: top;\n    }\n\n    .dataframe thead th {\n        text-align: right;\n    }\n</style>\n<table border=\"1\" class=\"dataframe\">\n  <thead>\n    <tr style=\"text-align: right;\">\n      <th></th>\n      <th>valence</th>\n      <th>year</th>\n      <th>acousticness</th>\n      <th>artists</th>\n      <th>danceability</th>\n      <th>duration_ms</th>\n      <th>energy</th>\n      <th>explicit</th>\n      <th>id</th>\n      <th>instrumentalness</th>\n      <th>key</th>\n      <th>liveness</th>\n      <th>loudness</th>\n      <th>mode</th>\n      <th>name</th>\n      <th>popularity</th>\n      <th>release_date</th>\n      <th>speechiness</th>\n      <th>tempo</th>\n    </tr>\n  </thead>\n  <tbody>\n    <tr>\n      <th>0</th>\n      <td>0.0594</td>\n      <td>1921</td>\n      <td>0.982</td>\n      <td>['Sergei Rachmaninoff', 'James Levine', 'Berli...</td>\n      <td>0.279</td>\n      <td>831667</td>\n      <td>0.211</td>\n      <td>0</td>\n      <td>4BJqT0PrAfrxzMOxytFOIz</td>\n      <td>0.878000</td>\n      <td>10</td>\n      <td>0.665</td>\n      <td>-20.096</td>\n      <td>1</td>\n      <td>Piano Concerto No. 3 in D Minor, Op. 30: III. ...</td>\n      <td>4</td>\n      <td>1921</td>\n      <td>0.0366</td>\n      <td>80.954</td>\n    </tr>\n    <tr>\n      <th>1</th>\n      <td>0.9630</td>\n      <td>1921</td>\n      <td>0.732</td>\n      <td>['Dennis Day']</td>\n      <td>0.819</td>\n      <td>180533</td>\n      <td>0.341</td>\n      <td>0</td>\n      <td>7xPhfUan2yNtyFG0cUWkt8</td>\n      <td>0.000000</td>\n      <td>7</td>\n      <td>0.160</td>\n      <td>-12.441</td>\n      <td>1</td>\n      <td>Clancy Lowered the Boom</td>\n      <td>5</td>\n      <td>1921</td>\n      <td>0.4150</td>\n      <td>60.936</td>\n    </tr>\n    <tr>\n      <th>2</th>\n      <td>0.0394</td>\n      <td>1921</td>\n      <td>0.961</td>\n      <td>['KHP Kridhamardawa Karaton Ngayogyakarta Hadi...</td>\n      <td>0.328</td>\n      <td>500062</td>\n      <td>0.166</td>\n      <td>0</td>\n      <td>1o6I8BglA6ylDMrIELygv1</td>\n      <td>0.913000</td>\n      <td>3</td>\n      <td>0.101</td>\n      <td>-14.850</td>\n      <td>1</td>\n      <td>Gati Bali</td>\n      <td>5</td>\n      <td>1921</td>\n      <td>0.0339</td>\n      <td>110.339</td>\n    </tr>\n    <tr>\n      <th>3</th>\n      <td>0.1650</td>\n      <td>1921</td>\n      <td>0.967</td>\n      <td>['Frank Parker']</td>\n      <td>0.275</td>\n      <td>210000</td>\n      <td>0.309</td>\n      <td>0</td>\n      <td>3ftBPsC5vPBKxYSee08FDH</td>\n      <td>0.000028</td>\n      <td>5</td>\n      <td>0.381</td>\n      <td>-9.316</td>\n      <td>1</td>\n      <td>Danny Boy</td>\n      <td>3</td>\n      <td>1921</td>\n      <td>0.0354</td>\n      <td>100.109</td>\n    </tr>\n    <tr>\n      <th>4</th>\n      <td>0.2530</td>\n      <td>1921</td>\n      <td>0.957</td>\n      <td>['Phil Regan']</td>\n      <td>0.418</td>\n      <td>166693</td>\n      <td>0.193</td>\n      <td>0</td>\n      <td>4d6HGyGT8e121BsdKmw9v6</td>\n      <td>0.000002</td>\n      <td>3</td>\n      <td>0.229</td>\n      <td>-10.096</td>\n      <td>1</td>\n      <td>When Irish Eyes Are Smiling</td>\n      <td>2</td>\n      <td>1921</td>\n      <td>0.0380</td>\n      <td>101.665</td>\n    </tr>\n  </tbody>\n</table>\n</div>"
     },
     "metadata": {},
     "execution_count": 2
    }
   ],
   "source": [
    "new_spotify_data = pd.read_csv('/Users/yinmialas/Desktop/dspt7_u4_spotify_proyect/archive/data.csv')\n",
    "print(new_spotify_data.shape)\n",
    "new_spotify_data.head()"
   ]
  },
  {
   "cell_type": "markdown",
   "metadata": {},
   "source": [
    "# scale features for clustering"
   ]
  },
  {
   "cell_type": "code",
   "execution_count": 3,
   "metadata": {},
   "outputs": [],
   "source": [
    "train, test = train_test_split(new_spotify_data, test_size=0.2, random_state=42)\n",
    "train, val = train_test_split(train, test_size=0.2, random_state=48)"
   ]
  },
  {
   "cell_type": "code",
   "execution_count": 4,
   "metadata": {},
   "outputs": [],
   "source": [
    "scaleCols4 = ['acousticness', 'danceability', 'energy', 'instrumentalness',\n",
    "             'key', 'liveness', 'loudness', 'speechiness', 'tempo', 'valence', 'mode', 'year', 'popularity', 'duration_ms', 'explicit']\n",
    "\n",
    "scaler = StandardScaler()\n",
    "train_scaled_new = scaler.fit_transform(new_spotify_data[scaleCols4])"
   ]
  },
  {
   "cell_type": "code",
   "execution_count": 5,
   "metadata": {},
   "outputs": [
    {
     "output_type": "execute_result",
     "data": {
      "text/plain": [
       "array([[ 1.27618658, -1.46701268, -1.01398836, ..., -1.25680847,\n",
       "         4.76314621, -0.30395549],\n",
       "       [ 0.61134711,  1.59877887, -0.5282702 , ..., -1.21099271,\n",
       "        -0.399747  , -0.30395549],\n",
       "       [ 1.22034007, -1.18882049, -1.18212158, ..., -1.21099271,\n",
       "         2.13382382, -0.30395549],\n",
       "       ...,\n",
       "       [-1.06670771,  0.5484614 ,  1.40339359, ...,  2.04192615,\n",
       "        -0.1559516 , -0.30395549],\n",
       "       [-1.30876246,  0.75852489,  0.52536459, ...,  1.7670316 ,\n",
       "         0.84205785,  3.2899554 ],\n",
       "       [-0.98426761,  1.80884237,  0.89152137, ...,  1.95029463,\n",
       "        -0.32859144,  3.2899554 ]])"
      ]
     },
     "metadata": {},
     "execution_count": 5
    }
   ],
   "source": [
    "train_scaled_new"
   ]
  },
  {
   "cell_type": "code",
   "execution_count": 6,
   "metadata": {},
   "outputs": [
    {
     "output_type": "stream",
     "name": "stdout",
     "text": [
      "(170653, 15)\n"
     ]
    },
    {
     "output_type": "execute_result",
     "data": {
      "text/plain": [
       "   acousticness  danceability    energy  instrumentalness       key  liveness  \\\n",
       "0      1.276187     -1.467013 -1.013988          2.268102  1.365588  2.626719   \n",
       "1      0.611347      1.598779 -0.528270         -0.532771  0.512123 -0.262229   \n",
       "2      1.220340     -1.188820 -1.182122          2.379754 -0.625830 -0.599749   \n",
       "3      1.236296     -1.489722 -0.647832         -0.532682 -0.056853  1.002043   \n",
       "4      1.209703     -0.677855 -1.081242         -0.532765 -0.625830  0.132499   \n",
       "\n",
       "   loudness  speechiness     tempo   valence      mode     year  popularity  \\\n",
       "0 -1.514237    -0.379706 -1.169307 -1.782825  0.643912 -2.15247   -1.256808   \n",
       "1 -0.170766     1.945481 -1.821180  1.650688  0.643912 -2.15247   -1.210993   \n",
       "2 -0.593551    -0.396297 -0.212404 -1.858821  0.643912 -2.15247   -1.210993   \n",
       "3  0.377680    -0.387080 -0.545537 -1.381564  0.643912 -2.15247   -1.302624   \n",
       "4  0.240788    -0.371104 -0.494867 -1.047180  0.643912 -2.15247   -1.348440   \n",
       "\n",
       "   duration_ms  explicit  \n",
       "0     4.763146 -0.303955  \n",
       "1    -0.399747 -0.303955  \n",
       "2     2.133824 -0.303955  \n",
       "3    -0.166101 -0.303955  \n",
       "4    -0.509485 -0.303955  "
      ],
      "text/html": "<div>\n<style scoped>\n    .dataframe tbody tr th:only-of-type {\n        vertical-align: middle;\n    }\n\n    .dataframe tbody tr th {\n        vertical-align: top;\n    }\n\n    .dataframe thead th {\n        text-align: right;\n    }\n</style>\n<table border=\"1\" class=\"dataframe\">\n  <thead>\n    <tr style=\"text-align: right;\">\n      <th></th>\n      <th>acousticness</th>\n      <th>danceability</th>\n      <th>energy</th>\n      <th>instrumentalness</th>\n      <th>key</th>\n      <th>liveness</th>\n      <th>loudness</th>\n      <th>speechiness</th>\n      <th>tempo</th>\n      <th>valence</th>\n      <th>mode</th>\n      <th>year</th>\n      <th>popularity</th>\n      <th>duration_ms</th>\n      <th>explicit</th>\n    </tr>\n  </thead>\n  <tbody>\n    <tr>\n      <th>0</th>\n      <td>1.276187</td>\n      <td>-1.467013</td>\n      <td>-1.013988</td>\n      <td>2.268102</td>\n      <td>1.365588</td>\n      <td>2.626719</td>\n      <td>-1.514237</td>\n      <td>-0.379706</td>\n      <td>-1.169307</td>\n      <td>-1.782825</td>\n      <td>0.643912</td>\n      <td>-2.15247</td>\n      <td>-1.256808</td>\n      <td>4.763146</td>\n      <td>-0.303955</td>\n    </tr>\n    <tr>\n      <th>1</th>\n      <td>0.611347</td>\n      <td>1.598779</td>\n      <td>-0.528270</td>\n      <td>-0.532771</td>\n      <td>0.512123</td>\n      <td>-0.262229</td>\n      <td>-0.170766</td>\n      <td>1.945481</td>\n      <td>-1.821180</td>\n      <td>1.650688</td>\n      <td>0.643912</td>\n      <td>-2.15247</td>\n      <td>-1.210993</td>\n      <td>-0.399747</td>\n      <td>-0.303955</td>\n    </tr>\n    <tr>\n      <th>2</th>\n      <td>1.220340</td>\n      <td>-1.188820</td>\n      <td>-1.182122</td>\n      <td>2.379754</td>\n      <td>-0.625830</td>\n      <td>-0.599749</td>\n      <td>-0.593551</td>\n      <td>-0.396297</td>\n      <td>-0.212404</td>\n      <td>-1.858821</td>\n      <td>0.643912</td>\n      <td>-2.15247</td>\n      <td>-1.210993</td>\n      <td>2.133824</td>\n      <td>-0.303955</td>\n    </tr>\n    <tr>\n      <th>3</th>\n      <td>1.236296</td>\n      <td>-1.489722</td>\n      <td>-0.647832</td>\n      <td>-0.532682</td>\n      <td>-0.056853</td>\n      <td>1.002043</td>\n      <td>0.377680</td>\n      <td>-0.387080</td>\n      <td>-0.545537</td>\n      <td>-1.381564</td>\n      <td>0.643912</td>\n      <td>-2.15247</td>\n      <td>-1.302624</td>\n      <td>-0.166101</td>\n      <td>-0.303955</td>\n    </tr>\n    <tr>\n      <th>4</th>\n      <td>1.209703</td>\n      <td>-0.677855</td>\n      <td>-1.081242</td>\n      <td>-0.532765</td>\n      <td>-0.625830</td>\n      <td>0.132499</td>\n      <td>0.240788</td>\n      <td>-0.371104</td>\n      <td>-0.494867</td>\n      <td>-1.047180</td>\n      <td>0.643912</td>\n      <td>-2.15247</td>\n      <td>-1.348440</td>\n      <td>-0.509485</td>\n      <td>-0.303955</td>\n    </tr>\n  </tbody>\n</table>\n</div>"
     },
     "metadata": {},
     "execution_count": 6
    }
   ],
   "source": [
    "train_scaled_df3 = pd.DataFrame(train_scaled_new, columns=scaleCols4)\n",
    "print(train_scaled_df3.shape)\n",
    "train_scaled_df3.head()"
   ]
  },
  {
   "cell_type": "code",
   "execution_count": 7,
   "metadata": {},
   "outputs": [],
   "source": [
    "train_scaled_df3['index'] = np.arange(1, len(train_scaled_df3)+1)\n",
    "new_spotify_data['index'] = np.arange(1, len(new_spotify_data)+1)"
   ]
  },
  {
   "cell_type": "code",
   "execution_count": 8,
   "metadata": {},
   "outputs": [
    {
     "output_type": "execute_result",
     "data": {
      "text/plain": [
       "         index                                            artists  \\\n",
       "0            1  ['Sergei Rachmaninoff', 'James Levine', 'Berli...   \n",
       "1            2                                     ['Dennis Day']   \n",
       "2            3  ['KHP Kridhamardawa Karaton Ngayogyakarta Hadi...   \n",
       "3            4                                   ['Frank Parker']   \n",
       "4            5                                     ['Phil Regan']   \n",
       "...        ...                                                ...   \n",
       "170648  170649  ['Anuel AA', 'Daddy Yankee', 'KAROL G', 'Ozuna...   \n",
       "170649  170650                                       ['Ashnikko']   \n",
       "170650  170651                                        ['MAMAMOO']   \n",
       "170651  170652                                         ['Eminem']   \n",
       "170652  170653                              ['KEVVO', 'J Balvin']   \n",
       "\n",
       "                                                     name  \\\n",
       "0       Piano Concerto No. 3 in D Minor, Op. 30: III. ...   \n",
       "1                                 Clancy Lowered the Boom   \n",
       "2                                               Gati Bali   \n",
       "3                                               Danny Boy   \n",
       "4                             When Irish Eyes Are Smiling   \n",
       "...                                                   ...   \n",
       "170648                                              China   \n",
       "170649                        Halloweenie III: Seven Days   \n",
       "170650                                                AYA   \n",
       "170651                                           Darkness   \n",
       "170652                    Billetes Azules (with J Balvin)   \n",
       "\n",
       "                            id release_date  \n",
       "0       4BJqT0PrAfrxzMOxytFOIz         1921  \n",
       "1       7xPhfUan2yNtyFG0cUWkt8         1921  \n",
       "2       1o6I8BglA6ylDMrIELygv1         1921  \n",
       "3       3ftBPsC5vPBKxYSee08FDH         1921  \n",
       "4       4d6HGyGT8e121BsdKmw9v6         1921  \n",
       "...                        ...          ...  \n",
       "170648  0KkIkfsLEJbrcIhYsCL7L5   2020-05-29  \n",
       "170649  0OStKKAuXlxA0fMH54Qs6E   2020-10-23  \n",
       "170650  4BZXVFYCb76Q0Klojq4piV   2020-11-03  \n",
       "170651  5SiZJoLXp3WOl3J4C8IK0d   2020-01-17  \n",
       "170652  7HmnJHfs0BkFzX4x8j0hkl   2020-10-16  \n",
       "\n",
       "[170653 rows x 5 columns]"
      ],
      "text/html": "<div>\n<style scoped>\n    .dataframe tbody tr th:only-of-type {\n        vertical-align: middle;\n    }\n\n    .dataframe tbody tr th {\n        vertical-align: top;\n    }\n\n    .dataframe thead th {\n        text-align: right;\n    }\n</style>\n<table border=\"1\" class=\"dataframe\">\n  <thead>\n    <tr style=\"text-align: right;\">\n      <th></th>\n      <th>index</th>\n      <th>artists</th>\n      <th>name</th>\n      <th>id</th>\n      <th>release_date</th>\n    </tr>\n  </thead>\n  <tbody>\n    <tr>\n      <th>0</th>\n      <td>1</td>\n      <td>['Sergei Rachmaninoff', 'James Levine', 'Berli...</td>\n      <td>Piano Concerto No. 3 in D Minor, Op. 30: III. ...</td>\n      <td>4BJqT0PrAfrxzMOxytFOIz</td>\n      <td>1921</td>\n    </tr>\n    <tr>\n      <th>1</th>\n      <td>2</td>\n      <td>['Dennis Day']</td>\n      <td>Clancy Lowered the Boom</td>\n      <td>7xPhfUan2yNtyFG0cUWkt8</td>\n      <td>1921</td>\n    </tr>\n    <tr>\n      <th>2</th>\n      <td>3</td>\n      <td>['KHP Kridhamardawa Karaton Ngayogyakarta Hadi...</td>\n      <td>Gati Bali</td>\n      <td>1o6I8BglA6ylDMrIELygv1</td>\n      <td>1921</td>\n    </tr>\n    <tr>\n      <th>3</th>\n      <td>4</td>\n      <td>['Frank Parker']</td>\n      <td>Danny Boy</td>\n      <td>3ftBPsC5vPBKxYSee08FDH</td>\n      <td>1921</td>\n    </tr>\n    <tr>\n      <th>4</th>\n      <td>5</td>\n      <td>['Phil Regan']</td>\n      <td>When Irish Eyes Are Smiling</td>\n      <td>4d6HGyGT8e121BsdKmw9v6</td>\n      <td>1921</td>\n    </tr>\n    <tr>\n      <th>...</th>\n      <td>...</td>\n      <td>...</td>\n      <td>...</td>\n      <td>...</td>\n      <td>...</td>\n    </tr>\n    <tr>\n      <th>170648</th>\n      <td>170649</td>\n      <td>['Anuel AA', 'Daddy Yankee', 'KAROL G', 'Ozuna...</td>\n      <td>China</td>\n      <td>0KkIkfsLEJbrcIhYsCL7L5</td>\n      <td>2020-05-29</td>\n    </tr>\n    <tr>\n      <th>170649</th>\n      <td>170650</td>\n      <td>['Ashnikko']</td>\n      <td>Halloweenie III: Seven Days</td>\n      <td>0OStKKAuXlxA0fMH54Qs6E</td>\n      <td>2020-10-23</td>\n    </tr>\n    <tr>\n      <th>170650</th>\n      <td>170651</td>\n      <td>['MAMAMOO']</td>\n      <td>AYA</td>\n      <td>4BZXVFYCb76Q0Klojq4piV</td>\n      <td>2020-11-03</td>\n    </tr>\n    <tr>\n      <th>170651</th>\n      <td>170652</td>\n      <td>['Eminem']</td>\n      <td>Darkness</td>\n      <td>5SiZJoLXp3WOl3J4C8IK0d</td>\n      <td>2020-01-17</td>\n    </tr>\n    <tr>\n      <th>170652</th>\n      <td>170653</td>\n      <td>['KEVVO', 'J Balvin']</td>\n      <td>Billetes Azules (with J Balvin)</td>\n      <td>7HmnJHfs0BkFzX4x8j0hkl</td>\n      <td>2020-10-16</td>\n    </tr>\n  </tbody>\n</table>\n<p>170653 rows × 5 columns</p>\n</div>"
     },
     "metadata": {},
     "execution_count": 8
    }
   ],
   "source": [
    "train_id = new_spotify_data[['index','artists','name','id', 'release_date']]\n",
    "\n",
    "train_id"
   ]
  },
  {
   "cell_type": "code",
   "execution_count": 11,
   "metadata": {},
   "outputs": [
    {
     "output_type": "execute_result",
     "data": {
      "text/plain": [
       "        acousticness  danceability    energy  instrumentalness       key  \\\n",
       "0           1.276187     -1.467013 -1.013988          2.268102  1.365588   \n",
       "1           0.611347      1.598779 -0.528270         -0.532771  0.512123   \n",
       "2           1.220340     -1.188820 -1.182122          2.379754 -0.625830   \n",
       "3           1.236296     -1.489722 -0.647832         -0.532682 -0.056853   \n",
       "4           1.209703     -0.677855 -1.081242         -0.532765 -0.625830   \n",
       "...              ...           ...       ...               ...       ...   \n",
       "170648     -1.110321      1.411425  1.216579         -0.531849  0.512123   \n",
       "170649     -0.787475      1.019685  1.011083         -0.532771  0.512123   \n",
       "170650     -1.066708      0.548461  1.403394         -0.532743 -0.341342   \n",
       "170651     -1.308762      0.758525  0.525365         -0.532746 -0.910318   \n",
       "170652     -0.984268      1.808842  0.891521         -0.517745  0.512123   \n",
       "\n",
       "        liveness  loudness  speechiness     tempo   valence      mode  \\\n",
       "0       2.626719 -1.514237    -0.379706 -1.169307 -1.782825  0.643912   \n",
       "1      -0.262229 -0.170766     1.945481 -1.821180  1.650688  0.643912   \n",
       "2      -0.599749 -0.593551    -0.396297 -0.212404 -1.858821  0.643912   \n",
       "3       1.002043  0.377680    -0.387080 -0.545537 -1.381564  0.643912   \n",
       "4       0.132499  0.240788    -0.371104 -0.494867 -1.047180  0.643912   \n",
       "...          ...       ...          ...       ...       ...       ...   \n",
       "170648 -0.707298  1.362950    -0.063250 -0.385320  0.301754  0.643912   \n",
       "170649 -0.599749  0.956136    -0.232846  0.686274  0.780531  0.643912   \n",
       "170650  0.298399  1.621992    -0.107492 -0.819761  0.411949 -1.553007   \n",
       "170651  2.500864  0.755887     1.287989 -1.361404 -1.267570  0.643912   \n",
       "170652 -0.136374  1.147784     0.059031 -0.712201  0.430948  0.643912   \n",
       "\n",
       "            year  popularity  duration_ms  explicit   index  \\\n",
       "0      -2.152470   -1.256808     4.763146 -0.303955       1   \n",
       "1      -2.152470   -1.210993    -0.399747 -0.303955       2   \n",
       "2      -2.152470   -1.210993     2.133824 -0.303955       3   \n",
       "3      -2.152470   -1.302624    -0.166101 -0.303955       4   \n",
       "4      -2.152470   -1.348440    -0.509485 -0.303955       5   \n",
       "...          ...         ...          ...       ...     ...   \n",
       "170648  1.667302    1.858663     0.561107 -0.303955  170649   \n",
       "170649  1.667302    1.675400    -0.636660 -0.303955  170650   \n",
       "170650  1.667302    2.041926    -0.155952 -0.303955  170651   \n",
       "170651  1.667302    1.767032     0.842058  3.289955  170652   \n",
       "170652  1.667302    1.950295    -0.328591  3.289955  170653   \n",
       "\n",
       "                                                  artists  \\\n",
       "0       ['Sergei Rachmaninoff', 'James Levine', 'Berli...   \n",
       "1                                          ['Dennis Day']   \n",
       "2       ['KHP Kridhamardawa Karaton Ngayogyakarta Hadi...   \n",
       "3                                        ['Frank Parker']   \n",
       "4                                          ['Phil Regan']   \n",
       "...                                                   ...   \n",
       "170648  ['Anuel AA', 'Daddy Yankee', 'KAROL G', 'Ozuna...   \n",
       "170649                                       ['Ashnikko']   \n",
       "170650                                        ['MAMAMOO']   \n",
       "170651                                         ['Eminem']   \n",
       "170652                              ['KEVVO', 'J Balvin']   \n",
       "\n",
       "                                                     name  \\\n",
       "0       Piano Concerto No. 3 in D Minor, Op. 30: III. ...   \n",
       "1                                 Clancy Lowered the Boom   \n",
       "2                                               Gati Bali   \n",
       "3                                               Danny Boy   \n",
       "4                             When Irish Eyes Are Smiling   \n",
       "...                                                   ...   \n",
       "170648                                              China   \n",
       "170649                        Halloweenie III: Seven Days   \n",
       "170650                                                AYA   \n",
       "170651                                           Darkness   \n",
       "170652                    Billetes Azules (with J Balvin)   \n",
       "\n",
       "                            id release_date  \n",
       "0       4BJqT0PrAfrxzMOxytFOIz         1921  \n",
       "1       7xPhfUan2yNtyFG0cUWkt8         1921  \n",
       "2       1o6I8BglA6ylDMrIELygv1         1921  \n",
       "3       3ftBPsC5vPBKxYSee08FDH         1921  \n",
       "4       4d6HGyGT8e121BsdKmw9v6         1921  \n",
       "...                        ...          ...  \n",
       "170648  0KkIkfsLEJbrcIhYsCL7L5   2020-05-29  \n",
       "170649  0OStKKAuXlxA0fMH54Qs6E   2020-10-23  \n",
       "170650  4BZXVFYCb76Q0Klojq4piV   2020-11-03  \n",
       "170651  5SiZJoLXp3WOl3J4C8IK0d   2020-01-17  \n",
       "170652  7HmnJHfs0BkFzX4x8j0hkl   2020-10-16  \n",
       "\n",
       "[170653 rows x 20 columns]"
      ],
      "text/html": "<div>\n<style scoped>\n    .dataframe tbody tr th:only-of-type {\n        vertical-align: middle;\n    }\n\n    .dataframe tbody tr th {\n        vertical-align: top;\n    }\n\n    .dataframe thead th {\n        text-align: right;\n    }\n</style>\n<table border=\"1\" class=\"dataframe\">\n  <thead>\n    <tr style=\"text-align: right;\">\n      <th></th>\n      <th>acousticness</th>\n      <th>danceability</th>\n      <th>energy</th>\n      <th>instrumentalness</th>\n      <th>key</th>\n      <th>liveness</th>\n      <th>loudness</th>\n      <th>speechiness</th>\n      <th>tempo</th>\n      <th>valence</th>\n      <th>mode</th>\n      <th>year</th>\n      <th>popularity</th>\n      <th>duration_ms</th>\n      <th>explicit</th>\n      <th>index</th>\n      <th>artists</th>\n      <th>name</th>\n      <th>id</th>\n      <th>release_date</th>\n    </tr>\n  </thead>\n  <tbody>\n    <tr>\n      <th>0</th>\n      <td>1.276187</td>\n      <td>-1.467013</td>\n      <td>-1.013988</td>\n      <td>2.268102</td>\n      <td>1.365588</td>\n      <td>2.626719</td>\n      <td>-1.514237</td>\n      <td>-0.379706</td>\n      <td>-1.169307</td>\n      <td>-1.782825</td>\n      <td>0.643912</td>\n      <td>-2.152470</td>\n      <td>-1.256808</td>\n      <td>4.763146</td>\n      <td>-0.303955</td>\n      <td>1</td>\n      <td>['Sergei Rachmaninoff', 'James Levine', 'Berli...</td>\n      <td>Piano Concerto No. 3 in D Minor, Op. 30: III. ...</td>\n      <td>4BJqT0PrAfrxzMOxytFOIz</td>\n      <td>1921</td>\n    </tr>\n    <tr>\n      <th>1</th>\n      <td>0.611347</td>\n      <td>1.598779</td>\n      <td>-0.528270</td>\n      <td>-0.532771</td>\n      <td>0.512123</td>\n      <td>-0.262229</td>\n      <td>-0.170766</td>\n      <td>1.945481</td>\n      <td>-1.821180</td>\n      <td>1.650688</td>\n      <td>0.643912</td>\n      <td>-2.152470</td>\n      <td>-1.210993</td>\n      <td>-0.399747</td>\n      <td>-0.303955</td>\n      <td>2</td>\n      <td>['Dennis Day']</td>\n      <td>Clancy Lowered the Boom</td>\n      <td>7xPhfUan2yNtyFG0cUWkt8</td>\n      <td>1921</td>\n    </tr>\n    <tr>\n      <th>2</th>\n      <td>1.220340</td>\n      <td>-1.188820</td>\n      <td>-1.182122</td>\n      <td>2.379754</td>\n      <td>-0.625830</td>\n      <td>-0.599749</td>\n      <td>-0.593551</td>\n      <td>-0.396297</td>\n      <td>-0.212404</td>\n      <td>-1.858821</td>\n      <td>0.643912</td>\n      <td>-2.152470</td>\n      <td>-1.210993</td>\n      <td>2.133824</td>\n      <td>-0.303955</td>\n      <td>3</td>\n      <td>['KHP Kridhamardawa Karaton Ngayogyakarta Hadi...</td>\n      <td>Gati Bali</td>\n      <td>1o6I8BglA6ylDMrIELygv1</td>\n      <td>1921</td>\n    </tr>\n    <tr>\n      <th>3</th>\n      <td>1.236296</td>\n      <td>-1.489722</td>\n      <td>-0.647832</td>\n      <td>-0.532682</td>\n      <td>-0.056853</td>\n      <td>1.002043</td>\n      <td>0.377680</td>\n      <td>-0.387080</td>\n      <td>-0.545537</td>\n      <td>-1.381564</td>\n      <td>0.643912</td>\n      <td>-2.152470</td>\n      <td>-1.302624</td>\n      <td>-0.166101</td>\n      <td>-0.303955</td>\n      <td>4</td>\n      <td>['Frank Parker']</td>\n      <td>Danny Boy</td>\n      <td>3ftBPsC5vPBKxYSee08FDH</td>\n      <td>1921</td>\n    </tr>\n    <tr>\n      <th>4</th>\n      <td>1.209703</td>\n      <td>-0.677855</td>\n      <td>-1.081242</td>\n      <td>-0.532765</td>\n      <td>-0.625830</td>\n      <td>0.132499</td>\n      <td>0.240788</td>\n      <td>-0.371104</td>\n      <td>-0.494867</td>\n      <td>-1.047180</td>\n      <td>0.643912</td>\n      <td>-2.152470</td>\n      <td>-1.348440</td>\n      <td>-0.509485</td>\n      <td>-0.303955</td>\n      <td>5</td>\n      <td>['Phil Regan']</td>\n      <td>When Irish Eyes Are Smiling</td>\n      <td>4d6HGyGT8e121BsdKmw9v6</td>\n      <td>1921</td>\n    </tr>\n    <tr>\n      <th>...</th>\n      <td>...</td>\n      <td>...</td>\n      <td>...</td>\n      <td>...</td>\n      <td>...</td>\n      <td>...</td>\n      <td>...</td>\n      <td>...</td>\n      <td>...</td>\n      <td>...</td>\n      <td>...</td>\n      <td>...</td>\n      <td>...</td>\n      <td>...</td>\n      <td>...</td>\n      <td>...</td>\n      <td>...</td>\n      <td>...</td>\n      <td>...</td>\n      <td>...</td>\n    </tr>\n    <tr>\n      <th>170648</th>\n      <td>-1.110321</td>\n      <td>1.411425</td>\n      <td>1.216579</td>\n      <td>-0.531849</td>\n      <td>0.512123</td>\n      <td>-0.707298</td>\n      <td>1.362950</td>\n      <td>-0.063250</td>\n      <td>-0.385320</td>\n      <td>0.301754</td>\n      <td>0.643912</td>\n      <td>1.667302</td>\n      <td>1.858663</td>\n      <td>0.561107</td>\n      <td>-0.303955</td>\n      <td>170649</td>\n      <td>['Anuel AA', 'Daddy Yankee', 'KAROL G', 'Ozuna...</td>\n      <td>China</td>\n      <td>0KkIkfsLEJbrcIhYsCL7L5</td>\n      <td>2020-05-29</td>\n    </tr>\n    <tr>\n      <th>170649</th>\n      <td>-0.787475</td>\n      <td>1.019685</td>\n      <td>1.011083</td>\n      <td>-0.532771</td>\n      <td>0.512123</td>\n      <td>-0.599749</td>\n      <td>0.956136</td>\n      <td>-0.232846</td>\n      <td>0.686274</td>\n      <td>0.780531</td>\n      <td>0.643912</td>\n      <td>1.667302</td>\n      <td>1.675400</td>\n      <td>-0.636660</td>\n      <td>-0.303955</td>\n      <td>170650</td>\n      <td>['Ashnikko']</td>\n      <td>Halloweenie III: Seven Days</td>\n      <td>0OStKKAuXlxA0fMH54Qs6E</td>\n      <td>2020-10-23</td>\n    </tr>\n    <tr>\n      <th>170650</th>\n      <td>-1.066708</td>\n      <td>0.548461</td>\n      <td>1.403394</td>\n      <td>-0.532743</td>\n      <td>-0.341342</td>\n      <td>0.298399</td>\n      <td>1.621992</td>\n      <td>-0.107492</td>\n      <td>-0.819761</td>\n      <td>0.411949</td>\n      <td>-1.553007</td>\n      <td>1.667302</td>\n      <td>2.041926</td>\n      <td>-0.155952</td>\n      <td>-0.303955</td>\n      <td>170651</td>\n      <td>['MAMAMOO']</td>\n      <td>AYA</td>\n      <td>4BZXVFYCb76Q0Klojq4piV</td>\n      <td>2020-11-03</td>\n    </tr>\n    <tr>\n      <th>170651</th>\n      <td>-1.308762</td>\n      <td>0.758525</td>\n      <td>0.525365</td>\n      <td>-0.532746</td>\n      <td>-0.910318</td>\n      <td>2.500864</td>\n      <td>0.755887</td>\n      <td>1.287989</td>\n      <td>-1.361404</td>\n      <td>-1.267570</td>\n      <td>0.643912</td>\n      <td>1.667302</td>\n      <td>1.767032</td>\n      <td>0.842058</td>\n      <td>3.289955</td>\n      <td>170652</td>\n      <td>['Eminem']</td>\n      <td>Darkness</td>\n      <td>5SiZJoLXp3WOl3J4C8IK0d</td>\n      <td>2020-01-17</td>\n    </tr>\n    <tr>\n      <th>170652</th>\n      <td>-0.984268</td>\n      <td>1.808842</td>\n      <td>0.891521</td>\n      <td>-0.517745</td>\n      <td>0.512123</td>\n      <td>-0.136374</td>\n      <td>1.147784</td>\n      <td>0.059031</td>\n      <td>-0.712201</td>\n      <td>0.430948</td>\n      <td>0.643912</td>\n      <td>1.667302</td>\n      <td>1.950295</td>\n      <td>-0.328591</td>\n      <td>3.289955</td>\n      <td>170653</td>\n      <td>['KEVVO', 'J Balvin']</td>\n      <td>Billetes Azules (with J Balvin)</td>\n      <td>7HmnJHfs0BkFzX4x8j0hkl</td>\n      <td>2020-10-16</td>\n    </tr>\n  </tbody>\n</table>\n<p>170653 rows × 20 columns</p>\n</div>"
     },
     "metadata": {},
     "execution_count": 11
    }
   ],
   "source": [
    "train_new_model = pd.merge(train_scaled_df3, train_id, how='left', on='index')\n",
    "train_new_model"
   ]
  },
  {
   "cell_type": "code",
   "execution_count": 12,
   "metadata": {},
   "outputs": [
    {
     "output_type": "execute_result",
     "data": {
      "text/plain": [
       "((170653, 20), (170653, 20))"
      ]
     },
     "metadata": {},
     "execution_count": 12
    }
   ],
   "source": [
    "train_new_model.shape, new_spotify_data.shape"
   ]
  },
  {
   "cell_type": "code",
   "execution_count": 13,
   "metadata": {},
   "outputs": [
    {
     "output_type": "display_data",
     "data": {
      "text/plain": "<Figure size 720x432 with 1 Axes>",
      "image/svg+xml": "<?xml version=\"1.0\" encoding=\"utf-8\" standalone=\"no\"?>\n<!DOCTYPE svg PUBLIC \"-//W3C//DTD SVG 1.1//EN\"\n  \"http://www.w3.org/Graphics/SVG/1.1/DTD/svg11.dtd\">\n<!-- Created with matplotlib (https://matplotlib.org/) -->\n<svg height=\"388.313906pt\" version=\"1.1\" viewBox=\"0 0 608.98125 388.313906\" width=\"608.98125pt\" xmlns=\"http://www.w3.org/2000/svg\" xmlns:xlink=\"http://www.w3.org/1999/xlink\">\n <metadata>\n  <rdf:RDF xmlns:cc=\"http://creativecommons.org/ns#\" xmlns:dc=\"http://purl.org/dc/elements/1.1/\" xmlns:rdf=\"http://www.w3.org/1999/02/22-rdf-syntax-ns#\">\n   <cc:Work>\n    <dc:type rdf:resource=\"http://purl.org/dc/dcmitype/StillImage\"/>\n    <dc:date>2021-01-05T10:22:17.491809</dc:date>\n    <dc:format>image/svg+xml</dc:format>\n    <dc:creator>\n     <cc:Agent>\n      <dc:title>Matplotlib v3.3.3, https://matplotlib.org/</dc:title>\n     </cc:Agent>\n    </dc:creator>\n   </cc:Work>\n  </rdf:RDF>\n </metadata>\n <defs>\n  <style type=\"text/css\">*{stroke-linecap:butt;stroke-linejoin:round;}</style>\n </defs>\n <g id=\"figure_1\">\n  <g id=\"patch_1\">\n   <path d=\"M 0 388.313906 \nL 608.98125 388.313906 \nL 608.98125 0 \nL 0 0 \nz\n\" style=\"fill:none;\"/>\n  </g>\n  <g id=\"axes_1\">\n   <g id=\"patch_2\">\n    <path d=\"M 43.78125 350.757656 \nL 601.78125 350.757656 \nL 601.78125 24.597656 \nL 43.78125 24.597656 \nz\n\" style=\"fill:#ffffff;\"/>\n   </g>\n   <g id=\"matplotlib.axis_1\">\n    <g id=\"xtick_1\">\n     <g id=\"line2d_1\">\n      <path clip-path=\"url(#pb492c0cbec)\" d=\"M 51.652723 350.757656 \nL 51.652723 24.597656 \n\" style=\"fill:none;stroke:#b0b0b0;stroke-linecap:square;stroke-width:0.8;\"/>\n     </g>\n     <g id=\"line2d_2\">\n      <defs>\n       <path d=\"M 0 0 \nL 0 3.5 \n\" id=\"m6c1ed9732a\" style=\"stroke:#000000;stroke-width:0.8;\"/>\n      </defs>\n      <g>\n       <use style=\"stroke:#000000;stroke-width:0.8;\" x=\"51.652723\" xlink:href=\"#m6c1ed9732a\" y=\"350.757656\"/>\n      </g>\n     </g>\n     <g id=\"text_1\">\n      <!-- 0 -->\n      <g transform=\"translate(48.471473 365.356094)scale(0.1 -0.1)\">\n       <defs>\n        <path d=\"M 31.78125 66.40625 \nQ 24.171875 66.40625 20.328125 58.90625 \nQ 16.5 51.421875 16.5 36.375 \nQ 16.5 21.390625 20.328125 13.890625 \nQ 24.171875 6.390625 31.78125 6.390625 \nQ 39.453125 6.390625 43.28125 13.890625 \nQ 47.125 21.390625 47.125 36.375 \nQ 47.125 51.421875 43.28125 58.90625 \nQ 39.453125 66.40625 31.78125 66.40625 \nz\nM 31.78125 74.21875 \nQ 44.046875 74.21875 50.515625 64.515625 \nQ 56.984375 54.828125 56.984375 36.375 \nQ 56.984375 17.96875 50.515625 8.265625 \nQ 44.046875 -1.421875 31.78125 -1.421875 \nQ 19.53125 -1.421875 13.0625 8.265625 \nQ 6.59375 17.96875 6.59375 36.375 \nQ 6.59375 54.828125 13.0625 64.515625 \nQ 19.53125 74.21875 31.78125 74.21875 \nz\n\" id=\"DejaVuSans-48\"/>\n       </defs>\n       <use xlink:href=\"#DejaVuSans-48\"/>\n      </g>\n     </g>\n    </g>\n    <g id=\"xtick_2\">\n     <g id=\"line2d_3\">\n      <path clip-path=\"url(#pb492c0cbec)\" d=\"M 139.113538 350.757656 \nL 139.113538 24.597656 \n\" style=\"fill:none;stroke:#b0b0b0;stroke-linecap:square;stroke-width:0.8;\"/>\n     </g>\n     <g id=\"line2d_4\">\n      <g>\n       <use style=\"stroke:#000000;stroke-width:0.8;\" x=\"139.113538\" xlink:href=\"#m6c1ed9732a\" y=\"350.757656\"/>\n      </g>\n     </g>\n     <g id=\"text_2\">\n      <!-- 5 -->\n      <g transform=\"translate(135.932288 365.356094)scale(0.1 -0.1)\">\n       <defs>\n        <path d=\"M 10.796875 72.90625 \nL 49.515625 72.90625 \nL 49.515625 64.59375 \nL 19.828125 64.59375 \nL 19.828125 46.734375 \nQ 21.96875 47.46875 24.109375 47.828125 \nQ 26.265625 48.1875 28.421875 48.1875 \nQ 40.625 48.1875 47.75 41.5 \nQ 54.890625 34.8125 54.890625 23.390625 \nQ 54.890625 11.625 47.5625 5.09375 \nQ 40.234375 -1.421875 26.90625 -1.421875 \nQ 22.3125 -1.421875 17.546875 -0.640625 \nQ 12.796875 0.140625 7.71875 1.703125 \nL 7.71875 11.625 \nQ 12.109375 9.234375 16.796875 8.0625 \nQ 21.484375 6.890625 26.703125 6.890625 \nQ 35.15625 6.890625 40.078125 11.328125 \nQ 45.015625 15.765625 45.015625 23.390625 \nQ 45.015625 31 40.078125 35.4375 \nQ 35.15625 39.890625 26.703125 39.890625 \nQ 22.75 39.890625 18.8125 39.015625 \nQ 14.890625 38.140625 10.796875 36.28125 \nz\n\" id=\"DejaVuSans-53\"/>\n       </defs>\n       <use xlink:href=\"#DejaVuSans-53\"/>\n      </g>\n     </g>\n    </g>\n    <g id=\"xtick_3\">\n     <g id=\"line2d_5\">\n      <path clip-path=\"url(#pb492c0cbec)\" d=\"M 226.574353 350.757656 \nL 226.574353 24.597656 \n\" style=\"fill:none;stroke:#b0b0b0;stroke-linecap:square;stroke-width:0.8;\"/>\n     </g>\n     <g id=\"line2d_6\">\n      <g>\n       <use style=\"stroke:#000000;stroke-width:0.8;\" x=\"226.574353\" xlink:href=\"#m6c1ed9732a\" y=\"350.757656\"/>\n      </g>\n     </g>\n     <g id=\"text_3\">\n      <!-- 10 -->\n      <g transform=\"translate(220.211853 365.356094)scale(0.1 -0.1)\">\n       <defs>\n        <path d=\"M 12.40625 8.296875 \nL 28.515625 8.296875 \nL 28.515625 63.921875 \nL 10.984375 60.40625 \nL 10.984375 69.390625 \nL 28.421875 72.90625 \nL 38.28125 72.90625 \nL 38.28125 8.296875 \nL 54.390625 8.296875 \nL 54.390625 0 \nL 12.40625 0 \nz\n\" id=\"DejaVuSans-49\"/>\n       </defs>\n       <use xlink:href=\"#DejaVuSans-49\"/>\n       <use x=\"63.623047\" xlink:href=\"#DejaVuSans-48\"/>\n      </g>\n     </g>\n    </g>\n    <g id=\"xtick_4\">\n     <g id=\"line2d_7\">\n      <path clip-path=\"url(#pb492c0cbec)\" d=\"M 314.035168 350.757656 \nL 314.035168 24.597656 \n\" style=\"fill:none;stroke:#b0b0b0;stroke-linecap:square;stroke-width:0.8;\"/>\n     </g>\n     <g id=\"line2d_8\">\n      <g>\n       <use style=\"stroke:#000000;stroke-width:0.8;\" x=\"314.035168\" xlink:href=\"#m6c1ed9732a\" y=\"350.757656\"/>\n      </g>\n     </g>\n     <g id=\"text_4\">\n      <!-- 15 -->\n      <g transform=\"translate(307.672668 365.356094)scale(0.1 -0.1)\">\n       <use xlink:href=\"#DejaVuSans-49\"/>\n       <use x=\"63.623047\" xlink:href=\"#DejaVuSans-53\"/>\n      </g>\n     </g>\n    </g>\n    <g id=\"xtick_5\">\n     <g id=\"line2d_9\">\n      <path clip-path=\"url(#pb492c0cbec)\" d=\"M 401.495984 350.757656 \nL 401.495984 24.597656 \n\" style=\"fill:none;stroke:#b0b0b0;stroke-linecap:square;stroke-width:0.8;\"/>\n     </g>\n     <g id=\"line2d_10\">\n      <g>\n       <use style=\"stroke:#000000;stroke-width:0.8;\" x=\"401.495984\" xlink:href=\"#m6c1ed9732a\" y=\"350.757656\"/>\n      </g>\n     </g>\n     <g id=\"text_5\">\n      <!-- 20 -->\n      <g transform=\"translate(395.133484 365.356094)scale(0.1 -0.1)\">\n       <defs>\n        <path d=\"M 19.1875 8.296875 \nL 53.609375 8.296875 \nL 53.609375 0 \nL 7.328125 0 \nL 7.328125 8.296875 \nQ 12.9375 14.109375 22.625 23.890625 \nQ 32.328125 33.6875 34.8125 36.53125 \nQ 39.546875 41.84375 41.421875 45.53125 \nQ 43.3125 49.21875 43.3125 52.78125 \nQ 43.3125 58.59375 39.234375 62.25 \nQ 35.15625 65.921875 28.609375 65.921875 \nQ 23.96875 65.921875 18.8125 64.3125 \nQ 13.671875 62.703125 7.8125 59.421875 \nL 7.8125 69.390625 \nQ 13.765625 71.78125 18.9375 73 \nQ 24.125 74.21875 28.421875 74.21875 \nQ 39.75 74.21875 46.484375 68.546875 \nQ 53.21875 62.890625 53.21875 53.421875 \nQ 53.21875 48.921875 51.53125 44.890625 \nQ 49.859375 40.875 45.40625 35.40625 \nQ 44.1875 33.984375 37.640625 27.21875 \nQ 31.109375 20.453125 19.1875 8.296875 \nz\n\" id=\"DejaVuSans-50\"/>\n       </defs>\n       <use xlink:href=\"#DejaVuSans-50\"/>\n       <use x=\"63.623047\" xlink:href=\"#DejaVuSans-48\"/>\n      </g>\n     </g>\n    </g>\n    <g id=\"xtick_6\">\n     <g id=\"line2d_11\">\n      <path clip-path=\"url(#pb492c0cbec)\" d=\"M 488.956799 350.757656 \nL 488.956799 24.597656 \n\" style=\"fill:none;stroke:#b0b0b0;stroke-linecap:square;stroke-width:0.8;\"/>\n     </g>\n     <g id=\"line2d_12\">\n      <g>\n       <use style=\"stroke:#000000;stroke-width:0.8;\" x=\"488.956799\" xlink:href=\"#m6c1ed9732a\" y=\"350.757656\"/>\n      </g>\n     </g>\n     <g id=\"text_6\">\n      <!-- 25 -->\n      <g transform=\"translate(482.594299 365.356094)scale(0.1 -0.1)\">\n       <use xlink:href=\"#DejaVuSans-50\"/>\n       <use x=\"63.623047\" xlink:href=\"#DejaVuSans-53\"/>\n      </g>\n     </g>\n    </g>\n    <g id=\"xtick_7\">\n     <g id=\"line2d_13\">\n      <path clip-path=\"url(#pb492c0cbec)\" d=\"M 576.417614 350.757656 \nL 576.417614 24.597656 \n\" style=\"fill:none;stroke:#b0b0b0;stroke-linecap:square;stroke-width:0.8;\"/>\n     </g>\n     <g id=\"line2d_14\">\n      <g>\n       <use style=\"stroke:#000000;stroke-width:0.8;\" x=\"576.417614\" xlink:href=\"#m6c1ed9732a\" y=\"350.757656\"/>\n      </g>\n     </g>\n     <g id=\"text_7\">\n      <!-- 30 -->\n      <g transform=\"translate(570.055114 365.356094)scale(0.1 -0.1)\">\n       <defs>\n        <path d=\"M 40.578125 39.3125 \nQ 47.65625 37.796875 51.625 33 \nQ 55.609375 28.21875 55.609375 21.1875 \nQ 55.609375 10.40625 48.1875 4.484375 \nQ 40.765625 -1.421875 27.09375 -1.421875 \nQ 22.515625 -1.421875 17.65625 -0.515625 \nQ 12.796875 0.390625 7.625 2.203125 \nL 7.625 11.71875 \nQ 11.71875 9.328125 16.59375 8.109375 \nQ 21.484375 6.890625 26.8125 6.890625 \nQ 36.078125 6.890625 40.9375 10.546875 \nQ 45.796875 14.203125 45.796875 21.1875 \nQ 45.796875 27.640625 41.28125 31.265625 \nQ 36.765625 34.90625 28.71875 34.90625 \nL 20.21875 34.90625 \nL 20.21875 43.015625 \nL 29.109375 43.015625 \nQ 36.375 43.015625 40.234375 45.921875 \nQ 44.09375 48.828125 44.09375 54.296875 \nQ 44.09375 59.90625 40.109375 62.90625 \nQ 36.140625 65.921875 28.71875 65.921875 \nQ 24.65625 65.921875 20.015625 65.03125 \nQ 15.375 64.15625 9.8125 62.3125 \nL 9.8125 71.09375 \nQ 15.4375 72.65625 20.34375 73.4375 \nQ 25.25 74.21875 29.59375 74.21875 \nQ 40.828125 74.21875 47.359375 69.109375 \nQ 53.90625 64.015625 53.90625 55.328125 \nQ 53.90625 49.265625 50.4375 45.09375 \nQ 46.96875 40.921875 40.578125 39.3125 \nz\n\" id=\"DejaVuSans-51\"/>\n       </defs>\n       <use xlink:href=\"#DejaVuSans-51\"/>\n       <use x=\"63.623047\" xlink:href=\"#DejaVuSans-48\"/>\n      </g>\n     </g>\n    </g>\n    <g id=\"text_8\">\n     <!-- Number of Clusters -->\n     <g transform=\"translate(274.346875 379.034219)scale(0.1 -0.1)\">\n      <defs>\n       <path d=\"M 9.8125 72.90625 \nL 23.09375 72.90625 \nL 55.421875 11.921875 \nL 55.421875 72.90625 \nL 64.984375 72.90625 \nL 64.984375 0 \nL 51.703125 0 \nL 19.390625 60.984375 \nL 19.390625 0 \nL 9.8125 0 \nz\n\" id=\"DejaVuSans-78\"/>\n       <path d=\"M 8.5 21.578125 \nL 8.5 54.6875 \nL 17.484375 54.6875 \nL 17.484375 21.921875 \nQ 17.484375 14.15625 20.5 10.265625 \nQ 23.53125 6.390625 29.59375 6.390625 \nQ 36.859375 6.390625 41.078125 11.03125 \nQ 45.3125 15.671875 45.3125 23.6875 \nL 45.3125 54.6875 \nL 54.296875 54.6875 \nL 54.296875 0 \nL 45.3125 0 \nL 45.3125 8.40625 \nQ 42.046875 3.421875 37.71875 1 \nQ 33.40625 -1.421875 27.6875 -1.421875 \nQ 18.265625 -1.421875 13.375 4.4375 \nQ 8.5 10.296875 8.5 21.578125 \nz\nM 31.109375 56 \nz\n\" id=\"DejaVuSans-117\"/>\n       <path d=\"M 52 44.1875 \nQ 55.375 50.25 60.0625 53.125 \nQ 64.75 56 71.09375 56 \nQ 79.640625 56 84.28125 50.015625 \nQ 88.921875 44.046875 88.921875 33.015625 \nL 88.921875 0 \nL 79.890625 0 \nL 79.890625 32.71875 \nQ 79.890625 40.578125 77.09375 44.375 \nQ 74.3125 48.1875 68.609375 48.1875 \nQ 61.625 48.1875 57.5625 43.546875 \nQ 53.515625 38.921875 53.515625 30.90625 \nL 53.515625 0 \nL 44.484375 0 \nL 44.484375 32.71875 \nQ 44.484375 40.625 41.703125 44.40625 \nQ 38.921875 48.1875 33.109375 48.1875 \nQ 26.21875 48.1875 22.15625 43.53125 \nQ 18.109375 38.875 18.109375 30.90625 \nL 18.109375 0 \nL 9.078125 0 \nL 9.078125 54.6875 \nL 18.109375 54.6875 \nL 18.109375 46.1875 \nQ 21.1875 51.21875 25.484375 53.609375 \nQ 29.78125 56 35.6875 56 \nQ 41.65625 56 45.828125 52.96875 \nQ 50 49.953125 52 44.1875 \nz\n\" id=\"DejaVuSans-109\"/>\n       <path d=\"M 48.6875 27.296875 \nQ 48.6875 37.203125 44.609375 42.84375 \nQ 40.53125 48.484375 33.40625 48.484375 \nQ 26.265625 48.484375 22.1875 42.84375 \nQ 18.109375 37.203125 18.109375 27.296875 \nQ 18.109375 17.390625 22.1875 11.75 \nQ 26.265625 6.109375 33.40625 6.109375 \nQ 40.53125 6.109375 44.609375 11.75 \nQ 48.6875 17.390625 48.6875 27.296875 \nz\nM 18.109375 46.390625 \nQ 20.953125 51.265625 25.265625 53.625 \nQ 29.59375 56 35.59375 56 \nQ 45.5625 56 51.78125 48.09375 \nQ 58.015625 40.1875 58.015625 27.296875 \nQ 58.015625 14.40625 51.78125 6.484375 \nQ 45.5625 -1.421875 35.59375 -1.421875 \nQ 29.59375 -1.421875 25.265625 0.953125 \nQ 20.953125 3.328125 18.109375 8.203125 \nL 18.109375 0 \nL 9.078125 0 \nL 9.078125 75.984375 \nL 18.109375 75.984375 \nz\n\" id=\"DejaVuSans-98\"/>\n       <path d=\"M 56.203125 29.59375 \nL 56.203125 25.203125 \nL 14.890625 25.203125 \nQ 15.484375 15.921875 20.484375 11.0625 \nQ 25.484375 6.203125 34.421875 6.203125 \nQ 39.59375 6.203125 44.453125 7.46875 \nQ 49.3125 8.734375 54.109375 11.28125 \nL 54.109375 2.78125 \nQ 49.265625 0.734375 44.1875 -0.34375 \nQ 39.109375 -1.421875 33.890625 -1.421875 \nQ 20.796875 -1.421875 13.15625 6.1875 \nQ 5.515625 13.8125 5.515625 26.8125 \nQ 5.515625 40.234375 12.765625 48.109375 \nQ 20.015625 56 32.328125 56 \nQ 43.359375 56 49.78125 48.890625 \nQ 56.203125 41.796875 56.203125 29.59375 \nz\nM 47.21875 32.234375 \nQ 47.125 39.59375 43.09375 43.984375 \nQ 39.0625 48.390625 32.421875 48.390625 \nQ 24.90625 48.390625 20.390625 44.140625 \nQ 15.875 39.890625 15.1875 32.171875 \nz\n\" id=\"DejaVuSans-101\"/>\n       <path d=\"M 41.109375 46.296875 \nQ 39.59375 47.171875 37.8125 47.578125 \nQ 36.03125 48 33.890625 48 \nQ 26.265625 48 22.1875 43.046875 \nQ 18.109375 38.09375 18.109375 28.8125 \nL 18.109375 0 \nL 9.078125 0 \nL 9.078125 54.6875 \nL 18.109375 54.6875 \nL 18.109375 46.1875 \nQ 20.953125 51.171875 25.484375 53.578125 \nQ 30.03125 56 36.53125 56 \nQ 37.453125 56 38.578125 55.875 \nQ 39.703125 55.765625 41.0625 55.515625 \nz\n\" id=\"DejaVuSans-114\"/>\n       <path id=\"DejaVuSans-32\"/>\n       <path d=\"M 30.609375 48.390625 \nQ 23.390625 48.390625 19.1875 42.75 \nQ 14.984375 37.109375 14.984375 27.296875 \nQ 14.984375 17.484375 19.15625 11.84375 \nQ 23.34375 6.203125 30.609375 6.203125 \nQ 37.796875 6.203125 41.984375 11.859375 \nQ 46.1875 17.53125 46.1875 27.296875 \nQ 46.1875 37.015625 41.984375 42.703125 \nQ 37.796875 48.390625 30.609375 48.390625 \nz\nM 30.609375 56 \nQ 42.328125 56 49.015625 48.375 \nQ 55.71875 40.765625 55.71875 27.296875 \nQ 55.71875 13.875 49.015625 6.21875 \nQ 42.328125 -1.421875 30.609375 -1.421875 \nQ 18.84375 -1.421875 12.171875 6.21875 \nQ 5.515625 13.875 5.515625 27.296875 \nQ 5.515625 40.765625 12.171875 48.375 \nQ 18.84375 56 30.609375 56 \nz\n\" id=\"DejaVuSans-111\"/>\n       <path d=\"M 37.109375 75.984375 \nL 37.109375 68.5 \nL 28.515625 68.5 \nQ 23.6875 68.5 21.796875 66.546875 \nQ 19.921875 64.59375 19.921875 59.515625 \nL 19.921875 54.6875 \nL 34.71875 54.6875 \nL 34.71875 47.703125 \nL 19.921875 47.703125 \nL 19.921875 0 \nL 10.890625 0 \nL 10.890625 47.703125 \nL 2.296875 47.703125 \nL 2.296875 54.6875 \nL 10.890625 54.6875 \nL 10.890625 58.5 \nQ 10.890625 67.625 15.140625 71.796875 \nQ 19.390625 75.984375 28.609375 75.984375 \nz\n\" id=\"DejaVuSans-102\"/>\n       <path d=\"M 64.40625 67.28125 \nL 64.40625 56.890625 \nQ 59.421875 61.53125 53.78125 63.8125 \nQ 48.140625 66.109375 41.796875 66.109375 \nQ 29.296875 66.109375 22.65625 58.46875 \nQ 16.015625 50.828125 16.015625 36.375 \nQ 16.015625 21.96875 22.65625 14.328125 \nQ 29.296875 6.6875 41.796875 6.6875 \nQ 48.140625 6.6875 53.78125 8.984375 \nQ 59.421875 11.28125 64.40625 15.921875 \nL 64.40625 5.609375 \nQ 59.234375 2.09375 53.4375 0.328125 \nQ 47.65625 -1.421875 41.21875 -1.421875 \nQ 24.65625 -1.421875 15.125 8.703125 \nQ 5.609375 18.84375 5.609375 36.375 \nQ 5.609375 53.953125 15.125 64.078125 \nQ 24.65625 74.21875 41.21875 74.21875 \nQ 47.75 74.21875 53.53125 72.484375 \nQ 59.328125 70.75 64.40625 67.28125 \nz\n\" id=\"DejaVuSans-67\"/>\n       <path d=\"M 9.421875 75.984375 \nL 18.40625 75.984375 \nL 18.40625 0 \nL 9.421875 0 \nz\n\" id=\"DejaVuSans-108\"/>\n       <path d=\"M 44.28125 53.078125 \nL 44.28125 44.578125 \nQ 40.484375 46.53125 36.375 47.5 \nQ 32.28125 48.484375 27.875 48.484375 \nQ 21.1875 48.484375 17.84375 46.4375 \nQ 14.5 44.390625 14.5 40.28125 \nQ 14.5 37.15625 16.890625 35.375 \nQ 19.28125 33.59375 26.515625 31.984375 \nL 29.59375 31.296875 \nQ 39.15625 29.25 43.1875 25.515625 \nQ 47.21875 21.78125 47.21875 15.09375 \nQ 47.21875 7.46875 41.1875 3.015625 \nQ 35.15625 -1.421875 24.609375 -1.421875 \nQ 20.21875 -1.421875 15.453125 -0.5625 \nQ 10.6875 0.296875 5.421875 2 \nL 5.421875 11.28125 \nQ 10.40625 8.6875 15.234375 7.390625 \nQ 20.0625 6.109375 24.8125 6.109375 \nQ 31.15625 6.109375 34.5625 8.28125 \nQ 37.984375 10.453125 37.984375 14.40625 \nQ 37.984375 18.0625 35.515625 20.015625 \nQ 33.0625 21.96875 24.703125 23.78125 \nL 21.578125 24.515625 \nQ 13.234375 26.265625 9.515625 29.90625 \nQ 5.8125 33.546875 5.8125 39.890625 \nQ 5.8125 47.609375 11.28125 51.796875 \nQ 16.75 56 26.8125 56 \nQ 31.78125 56 36.171875 55.265625 \nQ 40.578125 54.546875 44.28125 53.078125 \nz\n\" id=\"DejaVuSans-115\"/>\n       <path d=\"M 18.3125 70.21875 \nL 18.3125 54.6875 \nL 36.8125 54.6875 \nL 36.8125 47.703125 \nL 18.3125 47.703125 \nL 18.3125 18.015625 \nQ 18.3125 11.328125 20.140625 9.421875 \nQ 21.96875 7.515625 27.59375 7.515625 \nL 36.8125 7.515625 \nL 36.8125 0 \nL 27.59375 0 \nQ 17.1875 0 13.234375 3.875 \nQ 9.28125 7.765625 9.28125 18.015625 \nL 9.28125 47.703125 \nL 2.6875 47.703125 \nL 2.6875 54.6875 \nL 9.28125 54.6875 \nL 9.28125 70.21875 \nz\n\" id=\"DejaVuSans-116\"/>\n      </defs>\n      <use xlink:href=\"#DejaVuSans-78\"/>\n      <use x=\"74.804688\" xlink:href=\"#DejaVuSans-117\"/>\n      <use x=\"138.183594\" xlink:href=\"#DejaVuSans-109\"/>\n      <use x=\"235.595703\" xlink:href=\"#DejaVuSans-98\"/>\n      <use x=\"299.072266\" xlink:href=\"#DejaVuSans-101\"/>\n      <use x=\"360.595703\" xlink:href=\"#DejaVuSans-114\"/>\n      <use x=\"401.708984\" xlink:href=\"#DejaVuSans-32\"/>\n      <use x=\"433.496094\" xlink:href=\"#DejaVuSans-111\"/>\n      <use x=\"494.677734\" xlink:href=\"#DejaVuSans-102\"/>\n      <use x=\"529.882812\" xlink:href=\"#DejaVuSans-32\"/>\n      <use x=\"561.669922\" xlink:href=\"#DejaVuSans-67\"/>\n      <use x=\"631.494141\" xlink:href=\"#DejaVuSans-108\"/>\n      <use x=\"659.277344\" xlink:href=\"#DejaVuSans-117\"/>\n      <use x=\"722.65625\" xlink:href=\"#DejaVuSans-115\"/>\n      <use x=\"774.755859\" xlink:href=\"#DejaVuSans-116\"/>\n      <use x=\"813.964844\" xlink:href=\"#DejaVuSans-101\"/>\n      <use x=\"875.488281\" xlink:href=\"#DejaVuSans-114\"/>\n      <use x=\"916.601562\" xlink:href=\"#DejaVuSans-115\"/>\n     </g>\n    </g>\n   </g>\n   <g id=\"matplotlib.axis_2\">\n    <g id=\"ytick_1\">\n     <g id=\"line2d_15\">\n      <path clip-path=\"url(#pb492c0cbec)\" d=\"M 43.78125 343.117079 \nL 601.78125 343.117079 \n\" style=\"fill:none;stroke:#b0b0b0;stroke-linecap:square;stroke-width:0.8;\"/>\n     </g>\n     <g id=\"line2d_16\">\n      <defs>\n       <path d=\"M 0 0 \nL -3.5 0 \n\" id=\"m8b05047d70\" style=\"stroke:#000000;stroke-width:0.8;\"/>\n      </defs>\n      <g>\n       <use style=\"stroke:#000000;stroke-width:0.8;\" x=\"43.78125\" xlink:href=\"#m8b05047d70\" y=\"343.117079\"/>\n      </g>\n     </g>\n     <g id=\"text_9\">\n      <!-- 0.4 -->\n      <g transform=\"translate(20.878125 346.916298)scale(0.1 -0.1)\">\n       <defs>\n        <path d=\"M 10.6875 12.40625 \nL 21 12.40625 \nL 21 0 \nL 10.6875 0 \nz\n\" id=\"DejaVuSans-46\"/>\n        <path d=\"M 37.796875 64.3125 \nL 12.890625 25.390625 \nL 37.796875 25.390625 \nz\nM 35.203125 72.90625 \nL 47.609375 72.90625 \nL 47.609375 25.390625 \nL 58.015625 25.390625 \nL 58.015625 17.1875 \nL 47.609375 17.1875 \nL 47.609375 0 \nL 37.796875 0 \nL 37.796875 17.1875 \nL 4.890625 17.1875 \nL 4.890625 26.703125 \nz\n\" id=\"DejaVuSans-52\"/>\n       </defs>\n       <use xlink:href=\"#DejaVuSans-48\"/>\n       <use x=\"63.623047\" xlink:href=\"#DejaVuSans-46\"/>\n       <use x=\"95.410156\" xlink:href=\"#DejaVuSans-52\"/>\n      </g>\n     </g>\n    </g>\n    <g id=\"ytick_2\">\n     <g id=\"line2d_17\">\n      <path clip-path=\"url(#pb492c0cbec)\" d=\"M 43.78125 296.628446 \nL 601.78125 296.628446 \n\" style=\"fill:none;stroke:#b0b0b0;stroke-linecap:square;stroke-width:0.8;\"/>\n     </g>\n     <g id=\"line2d_18\">\n      <g>\n       <use style=\"stroke:#000000;stroke-width:0.8;\" x=\"43.78125\" xlink:href=\"#m8b05047d70\" y=\"296.628446\"/>\n      </g>\n     </g>\n     <g id=\"text_10\">\n      <!-- 0.6 -->\n      <g transform=\"translate(20.878125 300.427665)scale(0.1 -0.1)\">\n       <defs>\n        <path d=\"M 33.015625 40.375 \nQ 26.375 40.375 22.484375 35.828125 \nQ 18.609375 31.296875 18.609375 23.390625 \nQ 18.609375 15.53125 22.484375 10.953125 \nQ 26.375 6.390625 33.015625 6.390625 \nQ 39.65625 6.390625 43.53125 10.953125 \nQ 47.40625 15.53125 47.40625 23.390625 \nQ 47.40625 31.296875 43.53125 35.828125 \nQ 39.65625 40.375 33.015625 40.375 \nz\nM 52.59375 71.296875 \nL 52.59375 62.3125 \nQ 48.875 64.0625 45.09375 64.984375 \nQ 41.3125 65.921875 37.59375 65.921875 \nQ 27.828125 65.921875 22.671875 59.328125 \nQ 17.53125 52.734375 16.796875 39.40625 \nQ 19.671875 43.65625 24.015625 45.921875 \nQ 28.375 48.1875 33.59375 48.1875 \nQ 44.578125 48.1875 50.953125 41.515625 \nQ 57.328125 34.859375 57.328125 23.390625 \nQ 57.328125 12.15625 50.6875 5.359375 \nQ 44.046875 -1.421875 33.015625 -1.421875 \nQ 20.359375 -1.421875 13.671875 8.265625 \nQ 6.984375 17.96875 6.984375 36.375 \nQ 6.984375 53.65625 15.1875 63.9375 \nQ 23.390625 74.21875 37.203125 74.21875 \nQ 40.921875 74.21875 44.703125 73.484375 \nQ 48.484375 72.75 52.59375 71.296875 \nz\n\" id=\"DejaVuSans-54\"/>\n       </defs>\n       <use xlink:href=\"#DejaVuSans-48\"/>\n       <use x=\"63.623047\" xlink:href=\"#DejaVuSans-46\"/>\n       <use x=\"95.410156\" xlink:href=\"#DejaVuSans-54\"/>\n      </g>\n     </g>\n    </g>\n    <g id=\"ytick_3\">\n     <g id=\"line2d_19\">\n      <path clip-path=\"url(#pb492c0cbec)\" d=\"M 43.78125 250.139813 \nL 601.78125 250.139813 \n\" style=\"fill:none;stroke:#b0b0b0;stroke-linecap:square;stroke-width:0.8;\"/>\n     </g>\n     <g id=\"line2d_20\">\n      <g>\n       <use style=\"stroke:#000000;stroke-width:0.8;\" x=\"43.78125\" xlink:href=\"#m8b05047d70\" y=\"250.139813\"/>\n      </g>\n     </g>\n     <g id=\"text_11\">\n      <!-- 0.8 -->\n      <g transform=\"translate(20.878125 253.939032)scale(0.1 -0.1)\">\n       <defs>\n        <path d=\"M 31.78125 34.625 \nQ 24.75 34.625 20.71875 30.859375 \nQ 16.703125 27.09375 16.703125 20.515625 \nQ 16.703125 13.921875 20.71875 10.15625 \nQ 24.75 6.390625 31.78125 6.390625 \nQ 38.8125 6.390625 42.859375 10.171875 \nQ 46.921875 13.96875 46.921875 20.515625 \nQ 46.921875 27.09375 42.890625 30.859375 \nQ 38.875 34.625 31.78125 34.625 \nz\nM 21.921875 38.8125 \nQ 15.578125 40.375 12.03125 44.71875 \nQ 8.5 49.078125 8.5 55.328125 \nQ 8.5 64.0625 14.71875 69.140625 \nQ 20.953125 74.21875 31.78125 74.21875 \nQ 42.671875 74.21875 48.875 69.140625 \nQ 55.078125 64.0625 55.078125 55.328125 \nQ 55.078125 49.078125 51.53125 44.71875 \nQ 48 40.375 41.703125 38.8125 \nQ 48.828125 37.15625 52.796875 32.3125 \nQ 56.78125 27.484375 56.78125 20.515625 \nQ 56.78125 9.90625 50.3125 4.234375 \nQ 43.84375 -1.421875 31.78125 -1.421875 \nQ 19.734375 -1.421875 13.25 4.234375 \nQ 6.78125 9.90625 6.78125 20.515625 \nQ 6.78125 27.484375 10.78125 32.3125 \nQ 14.796875 37.15625 21.921875 38.8125 \nz\nM 18.3125 54.390625 \nQ 18.3125 48.734375 21.84375 45.5625 \nQ 25.390625 42.390625 31.78125 42.390625 \nQ 38.140625 42.390625 41.71875 45.5625 \nQ 45.3125 48.734375 45.3125 54.390625 \nQ 45.3125 60.0625 41.71875 63.234375 \nQ 38.140625 66.40625 31.78125 66.40625 \nQ 25.390625 66.40625 21.84375 63.234375 \nQ 18.3125 60.0625 18.3125 54.390625 \nz\n\" id=\"DejaVuSans-56\"/>\n       </defs>\n       <use xlink:href=\"#DejaVuSans-48\"/>\n       <use x=\"63.623047\" xlink:href=\"#DejaVuSans-46\"/>\n       <use x=\"95.410156\" xlink:href=\"#DejaVuSans-56\"/>\n      </g>\n     </g>\n    </g>\n    <g id=\"ytick_4\">\n     <g id=\"line2d_21\">\n      <path clip-path=\"url(#pb492c0cbec)\" d=\"M 43.78125 203.65118 \nL 601.78125 203.65118 \n\" style=\"fill:none;stroke:#b0b0b0;stroke-linecap:square;stroke-width:0.8;\"/>\n     </g>\n     <g id=\"line2d_22\">\n      <g>\n       <use style=\"stroke:#000000;stroke-width:0.8;\" x=\"43.78125\" xlink:href=\"#m8b05047d70\" y=\"203.65118\"/>\n      </g>\n     </g>\n     <g id=\"text_12\">\n      <!-- 1.0 -->\n      <g transform=\"translate(20.878125 207.450399)scale(0.1 -0.1)\">\n       <use xlink:href=\"#DejaVuSans-49\"/>\n       <use x=\"63.623047\" xlink:href=\"#DejaVuSans-46\"/>\n       <use x=\"95.410156\" xlink:href=\"#DejaVuSans-48\"/>\n      </g>\n     </g>\n    </g>\n    <g id=\"ytick_5\">\n     <g id=\"line2d_23\">\n      <path clip-path=\"url(#pb492c0cbec)\" d=\"M 43.78125 157.162547 \nL 601.78125 157.162547 \n\" style=\"fill:none;stroke:#b0b0b0;stroke-linecap:square;stroke-width:0.8;\"/>\n     </g>\n     <g id=\"line2d_24\">\n      <g>\n       <use style=\"stroke:#000000;stroke-width:0.8;\" x=\"43.78125\" xlink:href=\"#m8b05047d70\" y=\"157.162547\"/>\n      </g>\n     </g>\n     <g id=\"text_13\">\n      <!-- 1.2 -->\n      <g transform=\"translate(20.878125 160.961766)scale(0.1 -0.1)\">\n       <use xlink:href=\"#DejaVuSans-49\"/>\n       <use x=\"63.623047\" xlink:href=\"#DejaVuSans-46\"/>\n       <use x=\"95.410156\" xlink:href=\"#DejaVuSans-50\"/>\n      </g>\n     </g>\n    </g>\n    <g id=\"ytick_6\">\n     <g id=\"line2d_25\">\n      <path clip-path=\"url(#pb492c0cbec)\" d=\"M 43.78125 110.673914 \nL 601.78125 110.673914 \n\" style=\"fill:none;stroke:#b0b0b0;stroke-linecap:square;stroke-width:0.8;\"/>\n     </g>\n     <g id=\"line2d_26\">\n      <g>\n       <use style=\"stroke:#000000;stroke-width:0.8;\" x=\"43.78125\" xlink:href=\"#m8b05047d70\" y=\"110.673914\"/>\n      </g>\n     </g>\n     <g id=\"text_14\">\n      <!-- 1.4 -->\n      <g transform=\"translate(20.878125 114.473133)scale(0.1 -0.1)\">\n       <use xlink:href=\"#DejaVuSans-49\"/>\n       <use x=\"63.623047\" xlink:href=\"#DejaVuSans-46\"/>\n       <use x=\"95.410156\" xlink:href=\"#DejaVuSans-52\"/>\n      </g>\n     </g>\n    </g>\n    <g id=\"ytick_7\">\n     <g id=\"line2d_27\">\n      <path clip-path=\"url(#pb492c0cbec)\" d=\"M 43.78125 64.185281 \nL 601.78125 64.185281 \n\" style=\"fill:none;stroke:#b0b0b0;stroke-linecap:square;stroke-width:0.8;\"/>\n     </g>\n     <g id=\"line2d_28\">\n      <g>\n       <use style=\"stroke:#000000;stroke-width:0.8;\" x=\"43.78125\" xlink:href=\"#m8b05047d70\" y=\"64.185281\"/>\n      </g>\n     </g>\n     <g id=\"text_15\">\n      <!-- 1.6 -->\n      <g transform=\"translate(20.878125 67.9845)scale(0.1 -0.1)\">\n       <use xlink:href=\"#DejaVuSans-49\"/>\n       <use x=\"63.623047\" xlink:href=\"#DejaVuSans-46\"/>\n       <use x=\"95.410156\" xlink:href=\"#DejaVuSans-54\"/>\n      </g>\n     </g>\n    </g>\n    <g id=\"text_16\">\n     <!-- Distortion -->\n     <g transform=\"translate(14.798438 212.17375)rotate(-90)scale(0.1 -0.1)\">\n      <defs>\n       <path d=\"M 19.671875 64.796875 \nL 19.671875 8.109375 \nL 31.59375 8.109375 \nQ 46.6875 8.109375 53.6875 14.9375 \nQ 60.6875 21.78125 60.6875 36.53125 \nQ 60.6875 51.171875 53.6875 57.984375 \nQ 46.6875 64.796875 31.59375 64.796875 \nz\nM 9.8125 72.90625 \nL 30.078125 72.90625 \nQ 51.265625 72.90625 61.171875 64.09375 \nQ 71.09375 55.28125 71.09375 36.53125 \nQ 71.09375 17.671875 61.125 8.828125 \nQ 51.171875 0 30.078125 0 \nL 9.8125 0 \nz\n\" id=\"DejaVuSans-68\"/>\n       <path d=\"M 9.421875 54.6875 \nL 18.40625 54.6875 \nL 18.40625 0 \nL 9.421875 0 \nz\nM 9.421875 75.984375 \nL 18.40625 75.984375 \nL 18.40625 64.59375 \nL 9.421875 64.59375 \nz\n\" id=\"DejaVuSans-105\"/>\n       <path d=\"M 54.890625 33.015625 \nL 54.890625 0 \nL 45.90625 0 \nL 45.90625 32.71875 \nQ 45.90625 40.484375 42.875 44.328125 \nQ 39.84375 48.1875 33.796875 48.1875 \nQ 26.515625 48.1875 22.3125 43.546875 \nQ 18.109375 38.921875 18.109375 30.90625 \nL 18.109375 0 \nL 9.078125 0 \nL 9.078125 54.6875 \nL 18.109375 54.6875 \nL 18.109375 46.1875 \nQ 21.34375 51.125 25.703125 53.5625 \nQ 30.078125 56 35.796875 56 \nQ 45.21875 56 50.046875 50.171875 \nQ 54.890625 44.34375 54.890625 33.015625 \nz\n\" id=\"DejaVuSans-110\"/>\n      </defs>\n      <use xlink:href=\"#DejaVuSans-68\"/>\n      <use x=\"77.001953\" xlink:href=\"#DejaVuSans-105\"/>\n      <use x=\"104.785156\" xlink:href=\"#DejaVuSans-115\"/>\n      <use x=\"156.884766\" xlink:href=\"#DejaVuSans-116\"/>\n      <use x=\"196.09375\" xlink:href=\"#DejaVuSans-111\"/>\n      <use x=\"257.275391\" xlink:href=\"#DejaVuSans-114\"/>\n      <use x=\"298.388672\" xlink:href=\"#DejaVuSans-116\"/>\n      <use x=\"337.597656\" xlink:href=\"#DejaVuSans-105\"/>\n      <use x=\"365.380859\" xlink:href=\"#DejaVuSans-111\"/>\n      <use x=\"426.5625\" xlink:href=\"#DejaVuSans-110\"/>\n     </g>\n    </g>\n    <g id=\"text_17\">\n     <!-- 1e6 -->\n     <g transform=\"translate(43.78125 21.597656)scale(0.1 -0.1)\">\n      <use xlink:href=\"#DejaVuSans-49\"/>\n      <use x=\"63.623047\" xlink:href=\"#DejaVuSans-101\"/>\n      <use x=\"125.146484\" xlink:href=\"#DejaVuSans-54\"/>\n     </g>\n    </g>\n   </g>\n   <g id=\"line2d_29\">\n    <path clip-path=\"url(#pb492c0cbec)\" d=\"M 69.144886 39.423111 \nL 86.637049 126.259217 \nL 104.129212 173.239276 \nL 121.621375 199.485934 \nL 139.113538 225.286902 \nL 156.605701 244.038413 \nL 174.097864 256.541907 \nL 191.590027 272.015366 \nL 209.08219 281.093285 \nL 226.574353 288.116896 \nL 244.066516 293.427809 \nL 261.558679 297.645112 \nL 279.050842 300.979481 \nL 296.543005 305.171365 \nL 314.035168 308.142803 \nL 331.527332 310.522673 \nL 349.019495 313.733656 \nL 366.511658 316.065648 \nL 384.003821 318.62716 \nL 401.495984 320.885111 \nL 418.988147 322.826981 \nL 436.48031 324.731795 \nL 453.972473 326.51903 \nL 471.464636 327.916662 \nL 488.956799 329.66937 \nL 506.448962 330.993021 \nL 523.941125 332.241065 \nL 541.433288 333.49555 \nL 558.925451 334.8334 \nL 576.417614 335.932202 \n\" style=\"fill:none;stroke:#32cd32;stroke-linecap:square;stroke-width:1.5;\"/>\n   </g>\n   <g id=\"patch_3\">\n    <path d=\"M 43.78125 350.757656 \nL 43.78125 24.597656 \n\" style=\"fill:none;stroke:#000000;stroke-linecap:square;stroke-linejoin:miter;stroke-width:0.8;\"/>\n   </g>\n   <g id=\"patch_4\">\n    <path d=\"M 601.78125 350.757656 \nL 601.78125 24.597656 \n\" style=\"fill:none;stroke:#000000;stroke-linecap:square;stroke-linejoin:miter;stroke-width:0.8;\"/>\n   </g>\n   <g id=\"patch_5\">\n    <path d=\"M 43.78125 350.757656 \nL 601.78125 350.757656 \n\" style=\"fill:none;stroke:#000000;stroke-linecap:square;stroke-linejoin:miter;stroke-width:0.8;\"/>\n   </g>\n   <g id=\"patch_6\">\n    <path d=\"M 43.78125 24.597656 \nL 601.78125 24.597656 \n\" style=\"fill:none;stroke:#000000;stroke-linecap:square;stroke-linejoin:miter;stroke-width:0.8;\"/>\n   </g>\n   <g id=\"text_18\">\n    <!-- Elbow curve -->\n    <g transform=\"translate(277.076953 18.597656)scale(0.15 -0.15)\">\n     <defs>\n      <path d=\"M 9.8125 72.90625 \nL 55.90625 72.90625 \nL 55.90625 64.59375 \nL 19.671875 64.59375 \nL 19.671875 43.015625 \nL 54.390625 43.015625 \nL 54.390625 34.71875 \nL 19.671875 34.71875 \nL 19.671875 8.296875 \nL 56.78125 8.296875 \nL 56.78125 0 \nL 9.8125 0 \nz\n\" id=\"DejaVuSans-69\"/>\n      <path d=\"M 4.203125 54.6875 \nL 13.1875 54.6875 \nL 24.421875 12.015625 \nL 35.59375 54.6875 \nL 46.1875 54.6875 \nL 57.421875 12.015625 \nL 68.609375 54.6875 \nL 77.59375 54.6875 \nL 63.28125 0 \nL 52.6875 0 \nL 40.921875 44.828125 \nL 29.109375 0 \nL 18.5 0 \nz\n\" id=\"DejaVuSans-119\"/>\n      <path d=\"M 48.78125 52.59375 \nL 48.78125 44.1875 \nQ 44.96875 46.296875 41.140625 47.34375 \nQ 37.3125 48.390625 33.40625 48.390625 \nQ 24.65625 48.390625 19.8125 42.84375 \nQ 14.984375 37.3125 14.984375 27.296875 \nQ 14.984375 17.28125 19.8125 11.734375 \nQ 24.65625 6.203125 33.40625 6.203125 \nQ 37.3125 6.203125 41.140625 7.25 \nQ 44.96875 8.296875 48.78125 10.40625 \nL 48.78125 2.09375 \nQ 45.015625 0.34375 40.984375 -0.53125 \nQ 36.96875 -1.421875 32.421875 -1.421875 \nQ 20.0625 -1.421875 12.78125 6.34375 \nQ 5.515625 14.109375 5.515625 27.296875 \nQ 5.515625 40.671875 12.859375 48.328125 \nQ 20.21875 56 33.015625 56 \nQ 37.15625 56 41.109375 55.140625 \nQ 45.0625 54.296875 48.78125 52.59375 \nz\n\" id=\"DejaVuSans-99\"/>\n      <path d=\"M 2.984375 54.6875 \nL 12.5 54.6875 \nL 29.59375 8.796875 \nL 46.6875 54.6875 \nL 56.203125 54.6875 \nL 35.6875 0 \nL 23.484375 0 \nz\n\" id=\"DejaVuSans-118\"/>\n     </defs>\n     <use xlink:href=\"#DejaVuSans-69\"/>\n     <use x=\"63.183594\" xlink:href=\"#DejaVuSans-108\"/>\n     <use x=\"90.966797\" xlink:href=\"#DejaVuSans-98\"/>\n     <use x=\"154.443359\" xlink:href=\"#DejaVuSans-111\"/>\n     <use x=\"215.625\" xlink:href=\"#DejaVuSans-119\"/>\n     <use x=\"297.412109\" xlink:href=\"#DejaVuSans-32\"/>\n     <use x=\"329.199219\" xlink:href=\"#DejaVuSans-99\"/>\n     <use x=\"384.179688\" xlink:href=\"#DejaVuSans-117\"/>\n     <use x=\"447.558594\" xlink:href=\"#DejaVuSans-114\"/>\n     <use x=\"488.671875\" xlink:href=\"#DejaVuSans-118\"/>\n     <use x=\"547.851562\" xlink:href=\"#DejaVuSans-101\"/>\n    </g>\n   </g>\n  </g>\n </g>\n <defs>\n  <clipPath id=\"pb492c0cbec\">\n   <rect height=\"326.16\" width=\"558\" x=\"43.78125\" y=\"24.597656\"/>\n  </clipPath>\n </defs>\n</svg>\n",
      "image/png": "[encoded data removed]"
     },
     "metadata": {
      "needs_background": "light"
     }
    }
   ],
   "source": [
    "clusCols = ['acousticness', 'danceability', 'energy', 'instrumentalness',\n",
    "              'liveness', 'loudness', 'speechiness', 'tempo','valence', 'explicit'] #variables to cluster\n",
    "\n",
    "distortion = list()\n",
    "for k in range(1, 31): #started with range [1, 51] and narrowed down to this range \n",
    "    kmeans = KMeans(n_clusters = k)\n",
    "    kmeans.fit(train_new_model.loc[:, clusCols])\n",
    "    distortion.append(kmeans.inertia_) #append distortion value to list\n",
    "\n",
    "#plot elbow curves \n",
    "fig = plt.figure(figsize=(10, 6))\n",
    "plt.plot(range(1, 31), distortion, c = 'limegreen', label = 'distortion')\n",
    "plt.xlabel('Number of Clusters', fontsize = 10)\n",
    "plt.ylabel('Distortion', fontsize = 10)\n",
    "plt.grid(True)\n",
    "plt.title('Elbow curve', fontsize = 15)\n",
    "plt.show()"
   ]
  },
  {
   "cell_type": "code",
   "execution_count": 14,
   "metadata": {},
   "outputs": [
    {
     "output_type": "execute_result",
     "data": {
      "text/plain": [
       "NearestNeighbors(n_neighbors=15)"
      ]
     },
     "metadata": {},
     "execution_count": 14
    }
   ],
   "source": [
    "nneigh = NearestNeighbors(n_neighbors=15)\n",
    "\n",
    "features = ['acousticness', 'danceability', 'energy', 'instrumentalness',\n",
    "              'liveness', 'loudness', 'speechiness', 'tempo','valence', 'explicit']\n",
    "\n",
    "X = train_new_model[features].values\n",
    "\n",
    "nneigh.fit(X)"
   ]
  },
  {
   "cell_type": "code",
   "execution_count": 15,
   "metadata": {},
   "outputs": [
    {
     "output_type": "execute_result",
     "data": {
      "text/plain": [
       "(170653, 10)"
      ]
     },
     "metadata": {},
     "execution_count": 15
    }
   ],
   "source": [
    "X.shape"
   ]
  },
  {
   "cell_type": "code",
   "execution_count": 16,
   "metadata": {},
   "outputs": [
    {
     "output_type": "execute_result",
     "data": {
      "text/plain": [
       "(array([[0.        , 0.33066472, 0.56461893, 0.58997312, 0.62428065,\n",
       "         0.62671403, 0.64507556, 0.65671301, 0.6699996 , 0.67464918,\n",
       "         0.67879247, 0.67928821, 0.68416604, 0.68962238, 0.69178046]]),\n",
       " array([[   100, 142463,     66,     26,  42272, 157599,  59317,  80295,\n",
       "          20285, 142309,  59031,  24813,    404,  41900, 111390]]))"
      ]
     },
     "metadata": {},
     "execution_count": 16
    }
   ],
   "source": [
    "# test on 1 song\n",
    "test_song = X[100]\n",
    "\n",
    "distance, neighbors = nneigh.kneighbors(np.array([test_song]))\n",
    "distance, neighbors"
   ]
  },
  {
   "cell_type": "code",
   "execution_count": 17,
   "metadata": {},
   "outputs": [
    {
     "output_type": "execute_result",
     "data": {
      "text/plain": [
       "acousticness                       1.31076\n",
       "danceability                     -0.660823\n",
       "energy                           -0.939262\n",
       "instrumentalness                 -0.532762\n",
       "key                               -1.47929\n",
       "liveness                          0.384209\n",
       "loudness                         -0.706399\n",
       "speechiness                      -0.280161\n",
       "tempo                              -1.1102\n",
       "valence                           0.487945\n",
       "mode                              0.643912\n",
       "year                              -2.15247\n",
       "popularity                        -1.44007\n",
       "duration_ms                      -0.341072\n",
       "explicit                         -0.303955\n",
       "index                                  101\n",
       "artists                   ['Robert Jysor']\n",
       "name                              Dolorosa\n",
       "id                  4Zu1Kr6zfR04pETJbFh7Ox\n",
       "release_date                          1921\n",
       "Name: 100, dtype: object"
      ]
     },
     "metadata": {},
     "execution_count": 17
    }
   ],
   "source": [
    "train_new_model.iloc[100]"
   ]
  },
  {
   "cell_type": "code",
   "execution_count": 18,
   "metadata": {},
   "outputs": [
    {
     "output_type": "stream",
     "name": "stdout",
     "text": [
      "[(\"['Arthur Schwartz', 'Johnny Johnston', 'A Tree Grows in Brooklyn Ensemble', 'Jay Blackton']\", 142463), (\"['André Urban']\", 66), (\"['Maurice Chevalier']\", 26), (\"['Sonny Boy Williamson I']\", 42272), (\"['Fairuz']\", 157599), (\"['Kostas Roykoynas']\", 59317), (\"['Sons of the Pioneers']\", 80295), (\"['Mistinguett']\", 20285), (\"['Sandhya Mukherjee']\", 142309), (\"['Suchitra Mitra']\", 59031), (\"['Dinah Shore', 'Russell Nype']\", 24813), (\"['Eugénie Buffet', 'René De Buxeuil']\", 404), (\"['Lead Belly']\", 41900), (\"['Lata Mangeshkar']\", 111390)]\n"
     ]
    }
   ],
   "source": [
    "song_list = []\n",
    "for item in neighbors[0][1:]: # this way excludes itself\n",
    "    row = train_new_model.iloc[item]\n",
    "    # print(f'Artist: {row.artist_name} - Track: {row.track_name}')\n",
    "    song_list.append((row.artists, row.name))\n",
    "print(song_list)"
   ]
  },
  {
   "cell_type": "code",
   "execution_count": 19,
   "metadata": {},
   "outputs": [
    {
     "output_type": "stream",
     "name": "stdout",
     "text": [
      "[(\"['Arthur Schwartz', 'Johnny Johnston', 'A Tree Grows in Brooklyn Ensemble', 'Jay Blackton']\", 111390), (\"['André Urban']\", 111390), (\"['Maurice Chevalier']\", 111390), (\"['Sonny Boy Williamson I']\", 111390), (\"['Fairuz']\", 111390), (\"['Kostas Roykoynas']\", 111390), (\"['Sons of the Pioneers']\", 111390), (\"['Mistinguett']\", 111390), (\"['Sandhya Mukherjee']\", 111390), (\"['Suchitra Mitra']\", 111390), (\"['Dinah Shore', 'Russell Nype']\", 111390), (\"['Eugénie Buffet', 'René De Buxeuil']\", 111390), (\"['Lead Belly']\", 111390), (\"['Lata Mangeshkar']\", 111390)]\n"
     ]
    }
   ],
   "source": [
    "song_list1 = []\n",
    "for item1 in neighbors[0][1:]: # this way excludes itself\n",
    "    row1 = new_spotify_data.iloc[item1]\n",
    "    # print(f'Artist: {row.artist_name} - Track: {row.track_name}')\n",
    "    song_list1.append((row1.artists, row.name))\n",
    "print(song_list1)"
   ]
  },
  {
   "cell_type": "code",
   "execution_count": 39,
   "metadata": {},
   "outputs": [
    {
     "output_type": "execute_result",
     "data": {
      "text/plain": [
       "                            id  song_num\n",
       "0       4BJqT0PrAfrxzMOxytFOIz         0\n",
       "1       7xPhfUan2yNtyFG0cUWkt8         1\n",
       "2       1o6I8BglA6ylDMrIELygv1         2\n",
       "3       3ftBPsC5vPBKxYSee08FDH         3\n",
       "4       4d6HGyGT8e121BsdKmw9v6         4\n",
       "...                        ...       ...\n",
       "170648  0KkIkfsLEJbrcIhYsCL7L5    170648\n",
       "170649  0OStKKAuXlxA0fMH54Qs6E    170649\n",
       "170650  4BZXVFYCb76Q0Klojq4piV    170650\n",
       "170651  5SiZJoLXp3WOl3J4C8IK0d    170651\n",
       "170652  7HmnJHfs0BkFzX4x8j0hkl    170652\n",
       "\n",
       "[170653 rows x 2 columns]"
      ],
      "text/html": "<div>\n<style scoped>\n    .dataframe tbody tr th:only-of-type {\n        vertical-align: middle;\n    }\n\n    .dataframe tbody tr th {\n        vertical-align: top;\n    }\n\n    .dataframe thead th {\n        text-align: right;\n    }\n</style>\n<table border=\"1\" class=\"dataframe\">\n  <thead>\n    <tr style=\"text-align: right;\">\n      <th></th>\n      <th>id</th>\n      <th>song_num</th>\n    </tr>\n  </thead>\n  <tbody>\n    <tr>\n      <th>0</th>\n      <td>4BJqT0PrAfrxzMOxytFOIz</td>\n      <td>0</td>\n    </tr>\n    <tr>\n      <th>1</th>\n      <td>7xPhfUan2yNtyFG0cUWkt8</td>\n      <td>1</td>\n    </tr>\n    <tr>\n      <th>2</th>\n      <td>1o6I8BglA6ylDMrIELygv1</td>\n      <td>2</td>\n    </tr>\n    <tr>\n      <th>3</th>\n      <td>3ftBPsC5vPBKxYSee08FDH</td>\n      <td>3</td>\n    </tr>\n    <tr>\n      <th>4</th>\n      <td>4d6HGyGT8e121BsdKmw9v6</td>\n      <td>4</td>\n    </tr>\n    <tr>\n      <th>...</th>\n      <td>...</td>\n      <td>...</td>\n    </tr>\n    <tr>\n      <th>170648</th>\n      <td>0KkIkfsLEJbrcIhYsCL7L5</td>\n      <td>170648</td>\n    </tr>\n    <tr>\n      <th>170649</th>\n      <td>0OStKKAuXlxA0fMH54Qs6E</td>\n      <td>170649</td>\n    </tr>\n    <tr>\n      <th>170650</th>\n      <td>4BZXVFYCb76Q0Klojq4piV</td>\n      <td>170650</td>\n    </tr>\n    <tr>\n      <th>170651</th>\n      <td>5SiZJoLXp3WOl3J4C8IK0d</td>\n      <td>170651</td>\n    </tr>\n    <tr>\n      <th>170652</th>\n      <td>7HmnJHfs0BkFzX4x8j0hkl</td>\n      <td>170652</td>\n    </tr>\n  </tbody>\n</table>\n<p>170653 rows × 2 columns</p>\n</div>"
     },
     "metadata": {},
     "execution_count": 39
    }
   ],
   "source": [
    "df_new2 = train_new_model['id']\n",
    "df_new2 = pd.DataFrame(df_new2)\n",
    "df_new2['song_num']= np.arange(0, len(df_new2))\n",
    "\n",
    "df_new2"
   ]
  },
  {
   "cell_type": "code",
   "execution_count": 40,
   "metadata": {},
   "outputs": [],
   "source": [
    "#train_new_model['song_num']= np.arange(0, len(train_new_model))\n",
    "song_num = df_new2[df_new2['id']== 'id'].song_num.to_numpy()"
   ]
  },
  {
   "cell_type": "code",
   "execution_count": 41,
   "metadata": {},
   "outputs": [
    {
     "output_type": "error",
     "ename": "ValueError",
     "evalue": "Found array with 0 sample(s) (shape=(0, 16)) while a minimum of 1 is required.",
     "traceback": [
      "\u001b[0;31m---------------------------------------------------------------------------\u001b[0m",
      "\u001b[0;31mValueError\u001b[0m                                Traceback (most recent call last)",
      "\u001b[0;32m<ipython-input-41-807dadd94088>\u001b[0m in \u001b[0;36m<module>\u001b[0;34m\u001b[0m\n\u001b[1;32m      6\u001b[0m \u001b[0mnneigh1\u001b[0m\u001b[0;34m.\u001b[0m\u001b[0mfit\u001b[0m\u001b[0;34m(\u001b[0m\u001b[0mtrain_scaled_df3\u001b[0m\u001b[0;34m.\u001b[0m\u001b[0mvalues\u001b[0m\u001b[0;34m)\u001b[0m\u001b[0;34m\u001b[0m\u001b[0;34m\u001b[0m\u001b[0m\n\u001b[1;32m      7\u001b[0m \u001b[0;34m\u001b[0m\u001b[0m\n\u001b[0;32m----> 8\u001b[0;31m \u001b[0mdistance\u001b[0m\u001b[0;34m,\u001b[0m \u001b[0mneighbors\u001b[0m \u001b[0;34m=\u001b[0m \u001b[0mnneigh1\u001b[0m\u001b[0;34m.\u001b[0m\u001b[0mkneighbors\u001b[0m\u001b[0;34m(\u001b[0m\u001b[0mnp\u001b[0m\u001b[0;34m.\u001b[0m\u001b[0marray\u001b[0m\u001b[0;34m(\u001b[0m\u001b[0mtrain_scaled_df3\u001b[0m\u001b[0;34m.\u001b[0m\u001b[0mvalues\u001b[0m\u001b[0;34m[\u001b[0m\u001b[0msong_num\u001b[0m\u001b[0;34m]\u001b[0m\u001b[0;34m)\u001b[0m\u001b[0;34m)\u001b[0m\u001b[0;34m\u001b[0m\u001b[0;34m\u001b[0m\u001b[0m\n\u001b[0m",
      "\u001b[0;32m~/.local/share/virtualenvs/dspt7_u4_spotify_proyect-hy7WYrSs/lib/python3.8/site-packages/sklearn/neighbors/_base.py\u001b[0m in \u001b[0;36mkneighbors\u001b[0;34m(self, X, n_neighbors, return_distance)\u001b[0m\n\u001b[1;32m    604\u001b[0m                 \u001b[0mX\u001b[0m \u001b[0;34m=\u001b[0m \u001b[0m_check_precomputed\u001b[0m\u001b[0;34m(\u001b[0m\u001b[0mX\u001b[0m\u001b[0;34m)\u001b[0m\u001b[0;34m\u001b[0m\u001b[0;34m\u001b[0m\u001b[0m\n\u001b[1;32m    605\u001b[0m             \u001b[0;32melse\u001b[0m\u001b[0;34m:\u001b[0m\u001b[0;34m\u001b[0m\u001b[0;34m\u001b[0m\u001b[0m\n\u001b[0;32m--> 606\u001b[0;31m                 \u001b[0mX\u001b[0m \u001b[0;34m=\u001b[0m \u001b[0mcheck_array\u001b[0m\u001b[0;34m(\u001b[0m\u001b[0mX\u001b[0m\u001b[0;34m,\u001b[0m \u001b[0maccept_sparse\u001b[0m\u001b[0;34m=\u001b[0m\u001b[0;34m'csr'\u001b[0m\u001b[0;34m)\u001b[0m\u001b[0;34m\u001b[0m\u001b[0;34m\u001b[0m\u001b[0m\n\u001b[0m\u001b[1;32m    607\u001b[0m         \u001b[0;32melse\u001b[0m\u001b[0;34m:\u001b[0m\u001b[0;34m\u001b[0m\u001b[0;34m\u001b[0m\u001b[0m\n\u001b[1;32m    608\u001b[0m             \u001b[0mquery_is_train\u001b[0m \u001b[0;34m=\u001b[0m \u001b[0;32mTrue\u001b[0m\u001b[0;34m\u001b[0m\u001b[0;34m\u001b[0m\u001b[0m\n",
      "\u001b[0;32m~/.local/share/virtualenvs/dspt7_u4_spotify_proyect-hy7WYrSs/lib/python3.8/site-packages/sklearn/utils/validation.py\u001b[0m in \u001b[0;36minner_f\u001b[0;34m(*args, **kwargs)\u001b[0m\n\u001b[1;32m     70\u001b[0m                           FutureWarning)\n\u001b[1;32m     71\u001b[0m         \u001b[0mkwargs\u001b[0m\u001b[0;34m.\u001b[0m\u001b[0mupdate\u001b[0m\u001b[0;34m(\u001b[0m\u001b[0;34m{\u001b[0m\u001b[0mk\u001b[0m\u001b[0;34m:\u001b[0m \u001b[0marg\u001b[0m \u001b[0;32mfor\u001b[0m \u001b[0mk\u001b[0m\u001b[0;34m,\u001b[0m \u001b[0marg\u001b[0m \u001b[0;32min\u001b[0m \u001b[0mzip\u001b[0m\u001b[0;34m(\u001b[0m\u001b[0msig\u001b[0m\u001b[0;34m.\u001b[0m\u001b[0mparameters\u001b[0m\u001b[0;34m,\u001b[0m \u001b[0margs\u001b[0m\u001b[0;34m)\u001b[0m\u001b[0;34m}\u001b[0m\u001b[0;34m)\u001b[0m\u001b[0;34m\u001b[0m\u001b[0;34m\u001b[0m\u001b[0m\n\u001b[0;32m---> 72\u001b[0;31m         \u001b[0;32mreturn\u001b[0m \u001b[0mf\u001b[0m\u001b[0;34m(\u001b[0m\u001b[0;34m**\u001b[0m\u001b[0mkwargs\u001b[0m\u001b[0;34m)\u001b[0m\u001b[0;34m\u001b[0m\u001b[0;34m\u001b[0m\u001b[0m\n\u001b[0m\u001b[1;32m     73\u001b[0m     \u001b[0;32mreturn\u001b[0m \u001b[0minner_f\u001b[0m\u001b[0;34m\u001b[0m\u001b[0;34m\u001b[0m\u001b[0m\n\u001b[1;32m     74\u001b[0m \u001b[0;34m\u001b[0m\u001b[0m\n",
      "\u001b[0;32m~/.local/share/virtualenvs/dspt7_u4_spotify_proyect-hy7WYrSs/lib/python3.8/site-packages/sklearn/utils/validation.py\u001b[0m in \u001b[0;36mcheck_array\u001b[0;34m(array, accept_sparse, accept_large_sparse, dtype, order, copy, force_all_finite, ensure_2d, allow_nd, ensure_min_samples, ensure_min_features, estimator)\u001b[0m\n\u001b[1;32m    648\u001b[0m         \u001b[0mn_samples\u001b[0m \u001b[0;34m=\u001b[0m \u001b[0m_num_samples\u001b[0m\u001b[0;34m(\u001b[0m\u001b[0marray\u001b[0m\u001b[0;34m)\u001b[0m\u001b[0;34m\u001b[0m\u001b[0;34m\u001b[0m\u001b[0m\n\u001b[1;32m    649\u001b[0m         \u001b[0;32mif\u001b[0m \u001b[0mn_samples\u001b[0m \u001b[0;34m<\u001b[0m \u001b[0mensure_min_samples\u001b[0m\u001b[0;34m:\u001b[0m\u001b[0;34m\u001b[0m\u001b[0;34m\u001b[0m\u001b[0m\n\u001b[0;32m--> 650\u001b[0;31m             raise ValueError(\"Found array with %d sample(s) (shape=%s) while a\"\n\u001b[0m\u001b[1;32m    651\u001b[0m                              \u001b[0;34m\" minimum of %d is required%s.\"\u001b[0m\u001b[0;34m\u001b[0m\u001b[0;34m\u001b[0m\u001b[0m\n\u001b[1;32m    652\u001b[0m                              % (n_samples, array.shape, ensure_min_samples,\n",
      "\u001b[0;31mValueError\u001b[0m: Found array with 0 sample(s) (shape=(0, 16)) while a minimum of 1 is required."
     ]
    }
   ],
   "source": [
    "#hola = np.array(train_new_model.values[song_num])\n",
    "#hola.shape\n",
    "\n",
    "nneigh1 = NearestNeighbors(n_neighbors=15)\n",
    "\n",
    "nneigh1.fit(train_scaled_df3.values)\n",
    "\n",
    "distance, neighbors = nneigh1.kneighbors(np.array(train_scaled_df3.values[song_num]))"
   ]
  },
  {
   "cell_type": "code",
   "execution_count": null,
   "metadata": {},
   "outputs": [],
   "source": []
  }
 ]
}