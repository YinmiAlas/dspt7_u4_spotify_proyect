{
 "metadata": {
  "language_info": {
   "codemirror_mode": {
    "name": "ipython",
    "version": 3
   },
   "file_extension": ".py",
   "mimetype": "text/x-python",
   "name": "python",
   "nbconvert_exporter": "python",
   "pygments_lexer": "ipython3",
   "version": "3.8.3-final"
  },
  "orig_nbformat": 2,
  "kernelspec": {
   "name": "Python 3.8.3 64-bit ('dspt7_u4_spotify_proyect': pipenv)",
   "display_name": "Python 3.8.3 64-bit ('dspt7_u4_spotify_proyect': pipenv)",
   "metadata": {
    "interpreter": {
     "hash": "812560e523f78d96c5589cdf4b36b0ecfcefed82aca656aa7d1588b9dbe1912e"
    }
   }
  }
 },
 "nbformat": 4,
 "nbformat_minor": 2,
 "cells": [
  {
   "cell_type": "code",
   "execution_count": 39,
   "metadata": {},
   "outputs": [],
   "source": [
    "#Import Packages\n",
    "\n",
    "# Data analysis\n",
    "import pandas as pd\n",
    "import numpy as np\n",
    "import requests\n",
    "\n",
    "# Data cleaning\n",
    "import re\n",
    "\n",
    "# Tokenizing words\n",
    "import spacy\n",
    "from spacy.tokenizer import Tokenizer\n",
    "from collections import Counter\n",
    "\n",
    "# TFIDF\n",
    "from sklearn.feature_extraction.text import TfidfVectorizer\n",
    "from sklearn.metrics.pairwise import cosine_similarity\n",
    "\n",
    "# Encoding\n",
    "from sklearn.preprocessing import LabelEncoder, StandardScaler"
   ]
  },
  {
   "cell_type": "markdown",
   "metadata": {},
   "source": [
    "# Wrangling data"
   ]
  },
  {
   "cell_type": "code",
   "execution_count": 3,
   "metadata": {},
   "outputs": [
    {
     "output_type": "stream",
     "name": "stdout",
     "text": [
      "(130663, 17)\n"
     ]
    },
    {
     "output_type": "execute_result",
     "data": {
      "text/plain": [
       "  artist_name                track_id  \\\n",
       "0          YG  2RM4jf1Xa9zPgMGRDiht8O   \n",
       "1          YG  1tHDG53xJNGsItRA3vfVgs   \n",
       "2       R3HAB  6Wosx2euFPMT14UXiWudMy   \n",
       "3  Chris Cooq  3J2Jpw61sO7l6Hc7qdYV91   \n",
       "4  Chris Cooq  2jbYvQCyPgX3CdmAzeVeuS   \n",
       "\n",
       "                                       track_name  acousticness  danceability  \\\n",
       "0  Big Bank feat. 2 Chainz, Big Sean, Nicki Minaj      0.005820         0.743   \n",
       "1                    BAND DRUM (feat. A$AP Rocky)      0.024400         0.846   \n",
       "2                                   Radio Silence      0.025000         0.603   \n",
       "3                                         Lactose      0.029400         0.800   \n",
       "4                             Same - Original mix      0.000035         0.783   \n",
       "\n",
       "   duration_ms  energy  instrumentalness  key  liveness  loudness  mode  \\\n",
       "0       238373   0.339             0.000    1    0.0812    -7.678     1   \n",
       "1       214800   0.557             0.000    8    0.2860    -7.259     1   \n",
       "2       138913   0.723             0.000    9    0.0824    -5.890     0   \n",
       "3       125381   0.579             0.912    5    0.0994   -12.118     0   \n",
       "4       124016   0.792             0.878    7    0.0332   -10.277     1   \n",
       "\n",
       "   speechiness    tempo  time_signature  valence  popularity  \n",
       "0       0.4090  203.927               4    0.118          15  \n",
       "1       0.4570  159.009               4    0.371           0  \n",
       "2       0.0454  114.966               4    0.382          56  \n",
       "3       0.0701  123.003               4    0.641           0  \n",
       "4       0.0661  120.047               4    0.928           0  "
      ],
      "text/html": "<div>\n<style scoped>\n    .dataframe tbody tr th:only-of-type {\n        vertical-align: middle;\n    }\n\n    .dataframe tbody tr th {\n        vertical-align: top;\n    }\n\n    .dataframe thead th {\n        text-align: right;\n    }\n</style>\n<table border=\"1\" class=\"dataframe\">\n  <thead>\n    <tr style=\"text-align: right;\">\n      <th></th>\n      <th>artist_name</th>\n      <th>track_id</th>\n      <th>track_name</th>\n      <th>acousticness</th>\n      <th>danceability</th>\n      <th>duration_ms</th>\n      <th>energy</th>\n      <th>instrumentalness</th>\n      <th>key</th>\n      <th>liveness</th>\n      <th>loudness</th>\n      <th>mode</th>\n      <th>speechiness</th>\n      <th>tempo</th>\n      <th>time_signature</th>\n      <th>valence</th>\n      <th>popularity</th>\n    </tr>\n  </thead>\n  <tbody>\n    <tr>\n      <th>0</th>\n      <td>YG</td>\n      <td>2RM4jf1Xa9zPgMGRDiht8O</td>\n      <td>Big Bank feat. 2 Chainz, Big Sean, Nicki Minaj</td>\n      <td>0.005820</td>\n      <td>0.743</td>\n      <td>238373</td>\n      <td>0.339</td>\n      <td>0.000</td>\n      <td>1</td>\n      <td>0.0812</td>\n      <td>-7.678</td>\n      <td>1</td>\n      <td>0.4090</td>\n      <td>203.927</td>\n      <td>4</td>\n      <td>0.118</td>\n      <td>15</td>\n    </tr>\n    <tr>\n      <th>1</th>\n      <td>YG</td>\n      <td>1tHDG53xJNGsItRA3vfVgs</td>\n      <td>BAND DRUM (feat. A$AP Rocky)</td>\n      <td>0.024400</td>\n      <td>0.846</td>\n      <td>214800</td>\n      <td>0.557</td>\n      <td>0.000</td>\n      <td>8</td>\n      <td>0.2860</td>\n      <td>-7.259</td>\n      <td>1</td>\n      <td>0.4570</td>\n      <td>159.009</td>\n      <td>4</td>\n      <td>0.371</td>\n      <td>0</td>\n    </tr>\n    <tr>\n      <th>2</th>\n      <td>R3HAB</td>\n      <td>6Wosx2euFPMT14UXiWudMy</td>\n      <td>Radio Silence</td>\n      <td>0.025000</td>\n      <td>0.603</td>\n      <td>138913</td>\n      <td>0.723</td>\n      <td>0.000</td>\n      <td>9</td>\n      <td>0.0824</td>\n      <td>-5.890</td>\n      <td>0</td>\n      <td>0.0454</td>\n      <td>114.966</td>\n      <td>4</td>\n      <td>0.382</td>\n      <td>56</td>\n    </tr>\n    <tr>\n      <th>3</th>\n      <td>Chris Cooq</td>\n      <td>3J2Jpw61sO7l6Hc7qdYV91</td>\n      <td>Lactose</td>\n      <td>0.029400</td>\n      <td>0.800</td>\n      <td>125381</td>\n      <td>0.579</td>\n      <td>0.912</td>\n      <td>5</td>\n      <td>0.0994</td>\n      <td>-12.118</td>\n      <td>0</td>\n      <td>0.0701</td>\n      <td>123.003</td>\n      <td>4</td>\n      <td>0.641</td>\n      <td>0</td>\n    </tr>\n    <tr>\n      <th>4</th>\n      <td>Chris Cooq</td>\n      <td>2jbYvQCyPgX3CdmAzeVeuS</td>\n      <td>Same - Original mix</td>\n      <td>0.000035</td>\n      <td>0.783</td>\n      <td>124016</td>\n      <td>0.792</td>\n      <td>0.878</td>\n      <td>7</td>\n      <td>0.0332</td>\n      <td>-10.277</td>\n      <td>1</td>\n      <td>0.0661</td>\n      <td>120.047</td>\n      <td>4</td>\n      <td>0.928</td>\n      <td>0</td>\n    </tr>\n  </tbody>\n</table>\n</div>"
     },
     "metadata": {},
     "execution_count": 3
    }
   ],
   "source": [
    "spotify_data = pd.read_csv('/Users/yinmialas/Desktop/dspt7_u4_spotify_proyect/archive_data1/SpotifyAudioFeaturesApril2019.csv')\n",
    "print(spotify_data.shape)\n",
    "spotify_data.head()"
   ]
  },
  {
   "cell_type": "code",
   "execution_count": 4,
   "metadata": {},
   "outputs": [
    {
     "output_type": "execute_result",
     "data": {
      "text/plain": [
       "(26133, 17)"
      ]
     },
     "metadata": {},
     "execution_count": 4
    }
   ],
   "source": [
    "spotify_data = spotify_data.sample(frac=.2, axis = 0)\n",
    "spotify_data.shape"
   ]
  },
  {
   "cell_type": "code",
   "execution_count": 5,
   "metadata": {},
   "outputs": [],
   "source": [
    "# Copy dataframe\n",
    "spotify_data2 = spotify_data.copy()"
   ]
  },
  {
   "cell_type": "code",
   "execution_count": 6,
   "metadata": {},
   "outputs": [],
   "source": [
    "# Combine text columns for tokenization\n",
    "col_combine = ['artist_name', 'track_name']\n",
    "\n",
    "# Lowercase and regex\n",
    "for each in col_combine:\n",
    "  spotify_data2[each]= spotify_data2[each].apply(lambda x:x.lower())\n",
    "  spotify_data2[each]= spotify_data2[each].apply(lambda x: re.sub('[^a-zA-Z 0-9]', ' ', x))\n",
    "\n",
    "# Combine two columns with text\n",
    "spotify_data2['combined_text'] = spotify_data2['combined_text'] = spotify_data2['artist_name'] + spotify_data2['track_name'] \n",
    "\n",
    "# Remove repetitive columns\n",
    "spotify_data2= spotify_data2.drop(['artist_name', 'track_name', 'track_id'], axis = 1)"
   ]
  },
  {
   "cell_type": "code",
   "execution_count": 7,
   "metadata": {},
   "outputs": [
    {
     "output_type": "execute_result",
     "data": {
      "text/plain": [
       "        acousticness  danceability  duration_ms  energy  instrumentalness  \\\n",
       "57763         0.0252         0.817       178363   0.664          0.000000   \n",
       "1194          0.2580         0.791       225250   0.698          0.000000   \n",
       "28690         0.9720         0.477       198026   0.141          0.000057   \n",
       "81233         0.0467         0.408       360253   0.906          0.000003   \n",
       "109081        0.0411         0.761       193565   0.896          0.000058   \n",
       "\n",
       "        key  liveness  loudness  mode  speechiness    tempo  time_signature  \\\n",
       "57763     5    0.1260    -6.372     1       0.2000  107.945               4   \n",
       "1194      8    0.2140    -4.062     1       0.2640  119.992               3   \n",
       "28690     7    0.0792   -10.516     1       0.0803   76.777               5   \n",
       "81233     1    0.0914    -6.335     0       0.0858  172.170               4   \n",
       "109081    1    0.0725    -3.888     1       0.0587  114.994               4   \n",
       "\n",
       "        valence  popularity                               combined_text  \n",
       "57763     0.592          58                                s waveywavey  \n",
       "1194      0.511           0                    sean paultouch  pop mix   \n",
       "28690     0.301           4  jesget me through the night   acoustic mix  \n",
       "81233     0.283           4                           burnsink together  \n",
       "109081    0.295          41         why don t wehooked   borgeous remix  "
      ],
      "text/html": "<div>\n<style scoped>\n    .dataframe tbody tr th:only-of-type {\n        vertical-align: middle;\n    }\n\n    .dataframe tbody tr th {\n        vertical-align: top;\n    }\n\n    .dataframe thead th {\n        text-align: right;\n    }\n</style>\n<table border=\"1\" class=\"dataframe\">\n  <thead>\n    <tr style=\"text-align: right;\">\n      <th></th>\n      <th>acousticness</th>\n      <th>danceability</th>\n      <th>duration_ms</th>\n      <th>energy</th>\n      <th>instrumentalness</th>\n      <th>key</th>\n      <th>liveness</th>\n      <th>loudness</th>\n      <th>mode</th>\n      <th>speechiness</th>\n      <th>tempo</th>\n      <th>time_signature</th>\n      <th>valence</th>\n      <th>popularity</th>\n      <th>combined_text</th>\n    </tr>\n  </thead>\n  <tbody>\n    <tr>\n      <th>57763</th>\n      <td>0.0252</td>\n      <td>0.817</td>\n      <td>178363</td>\n      <td>0.664</td>\n      <td>0.000000</td>\n      <td>5</td>\n      <td>0.1260</td>\n      <td>-6.372</td>\n      <td>1</td>\n      <td>0.2000</td>\n      <td>107.945</td>\n      <td>4</td>\n      <td>0.592</td>\n      <td>58</td>\n      <td>s waveywavey</td>\n    </tr>\n    <tr>\n      <th>1194</th>\n      <td>0.2580</td>\n      <td>0.791</td>\n      <td>225250</td>\n      <td>0.698</td>\n      <td>0.000000</td>\n      <td>8</td>\n      <td>0.2140</td>\n      <td>-4.062</td>\n      <td>1</td>\n      <td>0.2640</td>\n      <td>119.992</td>\n      <td>3</td>\n      <td>0.511</td>\n      <td>0</td>\n      <td>sean paultouch  pop mix</td>\n    </tr>\n    <tr>\n      <th>28690</th>\n      <td>0.9720</td>\n      <td>0.477</td>\n      <td>198026</td>\n      <td>0.141</td>\n      <td>0.000057</td>\n      <td>7</td>\n      <td>0.0792</td>\n      <td>-10.516</td>\n      <td>1</td>\n      <td>0.0803</td>\n      <td>76.777</td>\n      <td>5</td>\n      <td>0.301</td>\n      <td>4</td>\n      <td>jesget me through the night   acoustic mix</td>\n    </tr>\n    <tr>\n      <th>81233</th>\n      <td>0.0467</td>\n      <td>0.408</td>\n      <td>360253</td>\n      <td>0.906</td>\n      <td>0.000003</td>\n      <td>1</td>\n      <td>0.0914</td>\n      <td>-6.335</td>\n      <td>0</td>\n      <td>0.0858</td>\n      <td>172.170</td>\n      <td>4</td>\n      <td>0.283</td>\n      <td>4</td>\n      <td>burnsink together</td>\n    </tr>\n    <tr>\n      <th>109081</th>\n      <td>0.0411</td>\n      <td>0.761</td>\n      <td>193565</td>\n      <td>0.896</td>\n      <td>0.000058</td>\n      <td>1</td>\n      <td>0.0725</td>\n      <td>-3.888</td>\n      <td>1</td>\n      <td>0.0587</td>\n      <td>114.994</td>\n      <td>4</td>\n      <td>0.295</td>\n      <td>41</td>\n      <td>why don t wehooked   borgeous remix</td>\n    </tr>\n  </tbody>\n</table>\n</div>"
     },
     "metadata": {},
     "execution_count": 7
    }
   ],
   "source": [
    "spotify_data2.head()"
   ]
  },
  {
   "cell_type": "code",
   "execution_count": 8,
   "metadata": {},
   "outputs": [
    {
     "output_type": "execute_result",
     "data": {
      "text/plain": [
       "(26133, 14)"
      ]
     },
     "metadata": {},
     "execution_count": 8
    }
   ],
   "source": [
    "# dropping combine column\n",
    "spotify_data2_sub = spotify_data2.drop(['combined_text'], axis = 1)\n",
    "spotify_data2_sub.shape"
   ]
  },
  {
   "cell_type": "code",
   "execution_count": 9,
   "metadata": {},
   "outputs": [
    {
     "output_type": "execute_result",
     "data": {
      "text/plain": [
       "        acousticness  danceability  duration_ms  energy  instrumentalness  \\\n",
       "57763         0.0252         0.817       178363   0.664          0.000000   \n",
       "1194          0.2580         0.791       225250   0.698          0.000000   \n",
       "28690         0.9720         0.477       198026   0.141          0.000057   \n",
       "81233         0.0467         0.408       360253   0.906          0.000003   \n",
       "109081        0.0411         0.761       193565   0.896          0.000058   \n",
       "\n",
       "        key  liveness  loudness  mode  speechiness    tempo  time_signature  \\\n",
       "57763     5    0.1260    -6.372     1       0.2000  107.945               4   \n",
       "1194      8    0.2140    -4.062     1       0.2640  119.992               3   \n",
       "28690     7    0.0792   -10.516     1       0.0803   76.777               5   \n",
       "81233     1    0.0914    -6.335     0       0.0858  172.170               4   \n",
       "109081    1    0.0725    -3.888     1       0.0587  114.994               4   \n",
       "\n",
       "        valence  popularity  \n",
       "57763     0.592          58  \n",
       "1194      0.511           0  \n",
       "28690     0.301           4  \n",
       "81233     0.283           4  \n",
       "109081    0.295          41  "
      ],
      "text/html": "<div>\n<style scoped>\n    .dataframe tbody tr th:only-of-type {\n        vertical-align: middle;\n    }\n\n    .dataframe tbody tr th {\n        vertical-align: top;\n    }\n\n    .dataframe thead th {\n        text-align: right;\n    }\n</style>\n<table border=\"1\" class=\"dataframe\">\n  <thead>\n    <tr style=\"text-align: right;\">\n      <th></th>\n      <th>acousticness</th>\n      <th>danceability</th>\n      <th>duration_ms</th>\n      <th>energy</th>\n      <th>instrumentalness</th>\n      <th>key</th>\n      <th>liveness</th>\n      <th>loudness</th>\n      <th>mode</th>\n      <th>speechiness</th>\n      <th>tempo</th>\n      <th>time_signature</th>\n      <th>valence</th>\n      <th>popularity</th>\n    </tr>\n  </thead>\n  <tbody>\n    <tr>\n      <th>57763</th>\n      <td>0.0252</td>\n      <td>0.817</td>\n      <td>178363</td>\n      <td>0.664</td>\n      <td>0.000000</td>\n      <td>5</td>\n      <td>0.1260</td>\n      <td>-6.372</td>\n      <td>1</td>\n      <td>0.2000</td>\n      <td>107.945</td>\n      <td>4</td>\n      <td>0.592</td>\n      <td>58</td>\n    </tr>\n    <tr>\n      <th>1194</th>\n      <td>0.2580</td>\n      <td>0.791</td>\n      <td>225250</td>\n      <td>0.698</td>\n      <td>0.000000</td>\n      <td>8</td>\n      <td>0.2140</td>\n      <td>-4.062</td>\n      <td>1</td>\n      <td>0.2640</td>\n      <td>119.992</td>\n      <td>3</td>\n      <td>0.511</td>\n      <td>0</td>\n    </tr>\n    <tr>\n      <th>28690</th>\n      <td>0.9720</td>\n      <td>0.477</td>\n      <td>198026</td>\n      <td>0.141</td>\n      <td>0.000057</td>\n      <td>7</td>\n      <td>0.0792</td>\n      <td>-10.516</td>\n      <td>1</td>\n      <td>0.0803</td>\n      <td>76.777</td>\n      <td>5</td>\n      <td>0.301</td>\n      <td>4</td>\n    </tr>\n    <tr>\n      <th>81233</th>\n      <td>0.0467</td>\n      <td>0.408</td>\n      <td>360253</td>\n      <td>0.906</td>\n      <td>0.000003</td>\n      <td>1</td>\n      <td>0.0914</td>\n      <td>-6.335</td>\n      <td>0</td>\n      <td>0.0858</td>\n      <td>172.170</td>\n      <td>4</td>\n      <td>0.283</td>\n      <td>4</td>\n    </tr>\n    <tr>\n      <th>109081</th>\n      <td>0.0411</td>\n      <td>0.761</td>\n      <td>193565</td>\n      <td>0.896</td>\n      <td>0.000058</td>\n      <td>1</td>\n      <td>0.0725</td>\n      <td>-3.888</td>\n      <td>1</td>\n      <td>0.0587</td>\n      <td>114.994</td>\n      <td>4</td>\n      <td>0.295</td>\n      <td>41</td>\n    </tr>\n  </tbody>\n</table>\n</div>"
     },
     "metadata": {},
     "execution_count": 9
    }
   ],
   "source": [
    "spotify_data2_sub.head()"
   ]
  },
  {
   "cell_type": "code",
   "execution_count": 10,
   "metadata": {},
   "outputs": [
    {
     "output_type": "stream",
     "name": "stdout",
     "text": [
      "(26133, 14)\n"
     ]
    },
    {
     "output_type": "execute_result",
     "data": {
      "text/plain": [
       "         0         1         2         3         4         5         6   \\\n",
       "0 -0.920431  1.241942 -0.300879  0.367912 -0.620502 -0.061184 -0.414756   \n",
       "1 -0.248033  1.104754  0.122282  0.498612 -0.620502  0.772894  0.111216   \n",
       "2  1.814221 -0.552055 -0.123418 -1.642566 -0.620343  0.494868 -0.694478   \n",
       "3 -0.858333 -0.916131  1.340702  1.298190 -0.620493 -1.173288 -0.621559   \n",
       "4 -0.874507  0.946460 -0.163679  1.259749 -0.620342 -1.173288 -0.734524   \n",
       "\n",
       "         7         8         9         10        11        12        13  \n",
       "0  0.553341  0.798570  0.696899 -0.381228  0.235739  0.590167  1.701698  \n",
       "1  0.908205  0.798570  1.208537  0.017183 -1.720000  0.276764 -1.235341  \n",
       "2 -0.083264  0.798570 -0.260025 -1.411997  2.191479 -0.535761 -1.032787  \n",
       "3  0.559025 -1.252239 -0.216056  1.742782  0.235739 -0.605406 -1.032787  \n",
       "4  0.934935  0.798570 -0.432703 -0.148107  0.235739 -0.558976  0.840841  "
      ],
      "text/html": "<div>\n<style scoped>\n    .dataframe tbody tr th:only-of-type {\n        vertical-align: middle;\n    }\n\n    .dataframe tbody tr th {\n        vertical-align: top;\n    }\n\n    .dataframe thead th {\n        text-align: right;\n    }\n</style>\n<table border=\"1\" class=\"dataframe\">\n  <thead>\n    <tr style=\"text-align: right;\">\n      <th></th>\n      <th>0</th>\n      <th>1</th>\n      <th>2</th>\n      <th>3</th>\n      <th>4</th>\n      <th>5</th>\n      <th>6</th>\n      <th>7</th>\n      <th>8</th>\n      <th>9</th>\n      <th>10</th>\n      <th>11</th>\n      <th>12</th>\n      <th>13</th>\n    </tr>\n  </thead>\n  <tbody>\n    <tr>\n      <th>0</th>\n      <td>-0.920431</td>\n      <td>1.241942</td>\n      <td>-0.300879</td>\n      <td>0.367912</td>\n      <td>-0.620502</td>\n      <td>-0.061184</td>\n      <td>-0.414756</td>\n      <td>0.553341</td>\n      <td>0.798570</td>\n      <td>0.696899</td>\n      <td>-0.381228</td>\n      <td>0.235739</td>\n      <td>0.590167</td>\n      <td>1.701698</td>\n    </tr>\n    <tr>\n      <th>1</th>\n      <td>-0.248033</td>\n      <td>1.104754</td>\n      <td>0.122282</td>\n      <td>0.498612</td>\n      <td>-0.620502</td>\n      <td>0.772894</td>\n      <td>0.111216</td>\n      <td>0.908205</td>\n      <td>0.798570</td>\n      <td>1.208537</td>\n      <td>0.017183</td>\n      <td>-1.720000</td>\n      <td>0.276764</td>\n      <td>-1.235341</td>\n    </tr>\n    <tr>\n      <th>2</th>\n      <td>1.814221</td>\n      <td>-0.552055</td>\n      <td>-0.123418</td>\n      <td>-1.642566</td>\n      <td>-0.620343</td>\n      <td>0.494868</td>\n      <td>-0.694478</td>\n      <td>-0.083264</td>\n      <td>0.798570</td>\n      <td>-0.260025</td>\n      <td>-1.411997</td>\n      <td>2.191479</td>\n      <td>-0.535761</td>\n      <td>-1.032787</td>\n    </tr>\n    <tr>\n      <th>3</th>\n      <td>-0.858333</td>\n      <td>-0.916131</td>\n      <td>1.340702</td>\n      <td>1.298190</td>\n      <td>-0.620493</td>\n      <td>-1.173288</td>\n      <td>-0.621559</td>\n      <td>0.559025</td>\n      <td>-1.252239</td>\n      <td>-0.216056</td>\n      <td>1.742782</td>\n      <td>0.235739</td>\n      <td>-0.605406</td>\n      <td>-1.032787</td>\n    </tr>\n    <tr>\n      <th>4</th>\n      <td>-0.874507</td>\n      <td>0.946460</td>\n      <td>-0.163679</td>\n      <td>1.259749</td>\n      <td>-0.620342</td>\n      <td>-1.173288</td>\n      <td>-0.734524</td>\n      <td>0.934935</td>\n      <td>0.798570</td>\n      <td>-0.432703</td>\n      <td>-0.148107</td>\n      <td>0.235739</td>\n      <td>-0.558976</td>\n      <td>0.840841</td>\n    </tr>\n  </tbody>\n</table>\n</div>"
     },
     "metadata": {},
     "execution_count": 10
    }
   ],
   "source": [
    "scaler = StandardScaler()\n",
    "scaler.fit(spotify_data2_sub)\n",
    "scaled_df = pd.DataFrame(scaler.transform(spotify_data2_sub))\n",
    "print(scaled_df.shape)\n",
    "scaled_df.head()"
   ]
  },
  {
   "cell_type": "markdown",
   "metadata": {},
   "source": [
    "# Spacy"
   ]
  },
  {
   "cell_type": "code",
   "execution_count": 11,
   "metadata": {},
   "outputs": [],
   "source": [
    "from pandas import Panel\n",
    "from tqdm import tqdm\n",
    "tqdm.pandas()"
   ]
  },
  {
   "cell_type": "code",
   "execution_count": 12,
   "metadata": {},
   "outputs": [
    {
     "output_type": "stream",
     "name": "stdout",
     "text": [
      "Requirement already satisfied: en_core_web_lg==2.3.1 from https://github.com/explosion/spacy-models/releases/download/en_core_web_lg-2.3.1/en_core_web_lg-2.3.1.tar.gz#egg=en_core_web_lg==2.3.1 in /Users/yinmialas/.local/share/virtualenvs/dspt7_u4_spotify_proyect-hy7WYrSs/lib/python3.8/site-packages (2.3.1)\n",
      "Requirement already satisfied: spacy<2.4.0,>=2.3.0 in /Users/yinmialas/.local/share/virtualenvs/dspt7_u4_spotify_proyect-hy7WYrSs/lib/python3.8/site-packages (from en_core_web_lg==2.3.1) (2.3.5)\n",
      "Requirement already satisfied: tqdm<5.0.0,>=4.38.0 in /Users/yinmialas/.local/share/virtualenvs/dspt7_u4_spotify_proyect-hy7WYrSs/lib/python3.8/site-packages (from spacy<2.4.0,>=2.3.0->en_core_web_lg==2.3.1) (4.54.1)\n",
      "Requirement already satisfied: cymem<2.1.0,>=2.0.2 in /Users/yinmialas/.local/share/virtualenvs/dspt7_u4_spotify_proyect-hy7WYrSs/lib/python3.8/site-packages (from spacy<2.4.0,>=2.3.0->en_core_web_lg==2.3.1) (2.0.5)\n",
      "Requirement already satisfied: thinc<7.5.0,>=7.4.1 in /Users/yinmialas/.local/share/virtualenvs/dspt7_u4_spotify_proyect-hy7WYrSs/lib/python3.8/site-packages (from spacy<2.4.0,>=2.3.0->en_core_web_lg==2.3.1) (7.4.5)\n",
      "Requirement already satisfied: wasabi<1.1.0,>=0.4.0 in /Users/yinmialas/.local/share/virtualenvs/dspt7_u4_spotify_proyect-hy7WYrSs/lib/python3.8/site-packages (from spacy<2.4.0,>=2.3.0->en_core_web_lg==2.3.1) (0.8.0)\n",
      "Requirement already satisfied: setuptools in /Users/yinmialas/.local/share/virtualenvs/dspt7_u4_spotify_proyect-hy7WYrSs/lib/python3.8/site-packages (from spacy<2.4.0,>=2.3.0->en_core_web_lg==2.3.1) (49.6.0)\n",
      "Requirement already satisfied: catalogue<1.1.0,>=0.0.7 in /Users/yinmialas/.local/share/virtualenvs/dspt7_u4_spotify_proyect-hy7WYrSs/lib/python3.8/site-packages (from spacy<2.4.0,>=2.3.0->en_core_web_lg==2.3.1) (1.0.0)\n",
      "Requirement already satisfied: numpy>=1.15.0 in /Users/yinmialas/.local/share/virtualenvs/dspt7_u4_spotify_proyect-hy7WYrSs/lib/python3.8/site-packages (from spacy<2.4.0,>=2.3.0->en_core_web_lg==2.3.1) (1.19.4)\n",
      "Requirement already satisfied: murmurhash<1.1.0,>=0.28.0 in /Users/yinmialas/.local/share/virtualenvs/dspt7_u4_spotify_proyect-hy7WYrSs/lib/python3.8/site-packages (from spacy<2.4.0,>=2.3.0->en_core_web_lg==2.3.1) (1.0.5)\n",
      "Requirement already satisfied: preshed<3.1.0,>=3.0.2 in /Users/yinmialas/.local/share/virtualenvs/dspt7_u4_spotify_proyect-hy7WYrSs/lib/python3.8/site-packages (from spacy<2.4.0,>=2.3.0->en_core_web_lg==2.3.1) (3.0.5)\n",
      "Requirement already satisfied: plac<1.2.0,>=0.9.6 in /Users/yinmialas/.local/share/virtualenvs/dspt7_u4_spotify_proyect-hy7WYrSs/lib/python3.8/site-packages (from spacy<2.4.0,>=2.3.0->en_core_web_lg==2.3.1) (1.1.3)\n",
      "Requirement already satisfied: requests<3.0.0,>=2.13.0 in /Users/yinmialas/.local/share/virtualenvs/dspt7_u4_spotify_proyect-hy7WYrSs/lib/python3.8/site-packages (from spacy<2.4.0,>=2.3.0->en_core_web_lg==2.3.1) (2.25.1)\n",
      "Requirement already satisfied: blis<0.8.0,>=0.4.0 in /Users/yinmialas/.local/share/virtualenvs/dspt7_u4_spotify_proyect-hy7WYrSs/lib/python3.8/site-packages (from spacy<2.4.0,>=2.3.0->en_core_web_lg==2.3.1) (0.7.4)\n",
      "Requirement already satisfied: srsly<1.1.0,>=1.0.2 in /Users/yinmialas/.local/share/virtualenvs/dspt7_u4_spotify_proyect-hy7WYrSs/lib/python3.8/site-packages (from spacy<2.4.0,>=2.3.0->en_core_web_lg==2.3.1) (1.0.5)\n",
      "Requirement already satisfied: idna<3,>=2.5 in /Users/yinmialas/.local/share/virtualenvs/dspt7_u4_spotify_proyect-hy7WYrSs/lib/python3.8/site-packages (from requests<3.0.0,>=2.13.0->spacy<2.4.0,>=2.3.0->en_core_web_lg==2.3.1) (2.10)\n",
      "Requirement already satisfied: certifi>=2017.4.17 in /Users/yinmialas/.local/share/virtualenvs/dspt7_u4_spotify_proyect-hy7WYrSs/lib/python3.8/site-packages (from requests<3.0.0,>=2.13.0->spacy<2.4.0,>=2.3.0->en_core_web_lg==2.3.1) (2020.12.5)\n",
      "Requirement already satisfied: chardet<5,>=3.0.2 in /Users/yinmialas/.local/share/virtualenvs/dspt7_u4_spotify_proyect-hy7WYrSs/lib/python3.8/site-packages (from requests<3.0.0,>=2.13.0->spacy<2.4.0,>=2.3.0->en_core_web_lg==2.3.1) (4.0.0)\n",
      "Requirement already satisfied: urllib3<1.27,>=1.21.1 in /Users/yinmialas/.local/share/virtualenvs/dspt7_u4_spotify_proyect-hy7WYrSs/lib/python3.8/site-packages (from requests<3.0.0,>=2.13.0->spacy<2.4.0,>=2.3.0->en_core_web_lg==2.3.1) (1.26.2)\n",
      "\u001b[33mWARNING: You are using pip version 20.2.2; however, version 20.3.3 is available.\n",
      "You should consider upgrading via the '/Users/yinmialas/.local/share/virtualenvs/dspt7_u4_spotify_proyect-hy7WYrSs/bin/python -m pip install --upgrade pip' command.\u001b[0m\n",
      "\u001b[38;5;2m✔ Download and installation successful\u001b[0m\n",
      "You can now load the model via spacy.load('en_core_web_lg')\n"
     ]
    }
   ],
   "source": [
    "!python -m spacy download en_core_web_lg"
   ]
  },
  {
   "cell_type": "code",
   "execution_count": 13,
   "metadata": {},
   "outputs": [],
   "source": [
    "#lemmas with spacy\n",
    "nlp = spacy.load('en_core_web_lg', disable=['tagger', 'parser'])\n",
    "\n",
    "# Wrap it all in a function\n",
    "def get_lemmas(text):\n",
    "    lemmas = []\n",
    "    doc = nlp(text)\n",
    "    # Something goes here :P\n",
    "    doc_tokens = []\n",
    "    for token in doc: \n",
    "        if ((token.is_stop == False) and (token.is_punct == False)) and (token.pos_!= 'PRON'):\n",
    "            lemmas.append(token.lemma_)\n",
    "    return lemmas"
   ]
  },
  {
   "cell_type": "code",
   "execution_count": 15,
   "metadata": {},
   "outputs": [
    {
     "output_type": "stream",
     "name": "stderr",
     "text": [
      "100%|██████████| 26133/26133 [00:58<00:00, 445.21it/s]\n"
     ]
    },
    {
     "output_type": "execute_result",
     "data": {
      "text/plain": [
       "57763                             [s, waveywavey]\n",
       "1194               [sean, paultouch,  , pop, mix]\n",
       "28690          [jesget, night,   , acoustic, mix]\n",
       "81233                                  [burnsink]\n",
       "109081    [don, t, wehooked,   , borgeous, remix]\n",
       "Name: lemmas, dtype: object"
      ]
     },
     "metadata": {},
     "execution_count": 15
    }
   ],
   "source": [
    "# Get lemmas\n",
    "\n",
    "spotify_data2['lemmas'] = spotify_data2['combined_text'].progress_apply(get_lemmas)\n",
    "spotify_data2['lemmas'].head()"
   ]
  },
  {
   "cell_type": "markdown",
   "metadata": {},
   "source": [
    "# TFIDF"
   ]
  },
  {
   "cell_type": "code",
   "execution_count": 17,
   "metadata": {},
   "outputs": [],
   "source": [
    "# Set up TFIDF\n",
    "# Instantiate vectorizer object\n",
    "\n",
    "def tokenize(document):\n",
    "    \n",
    "    doc = nlp(document)\n",
    "    \n",
    "    return [token.lemma_.strip() for token in doc if (token.is_stop != True) and (token.is_punct != True)]\n",
    "\n",
    "tfidf = TfidfVectorizer(\n",
    "    stop_words = 'english',\n",
    "    # tokenizer = tokenize,\n",
    "    ngram_range = (1,1),\n",
    "    min_df = 1, \n",
    "    max_df = 0.9,\n",
    "    max_features = 1000)"
   ]
  },
  {
   "cell_type": "code",
   "execution_count": 18,
   "metadata": {},
   "outputs": [],
   "source": [
    "# Create a vocabulary and tf-idf score per document\n",
    "text = spotify_data2['combined_text']\n",
    "dtm = tfidf.fit_transform(text)"
   ]
  },
  {
   "cell_type": "code",
   "execution_count": 20,
   "metadata": {},
   "outputs": [
    {
     "output_type": "execute_result",
     "data": {
      "text/plain": [
       "(26133, 16)"
      ]
     },
     "metadata": {},
     "execution_count": 20
    }
   ],
   "source": [
    "spotify_data2.shape"
   ]
  },
  {
   "cell_type": "code",
   "execution_count": 21,
   "metadata": {},
   "outputs": [
    {
     "output_type": "stream",
     "name": "stdout",
     "text": [
      "(26133, 1000)\n"
     ]
    },
    {
     "output_type": "execute_result",
     "data": {
      "text/plain": [
       "    03   10  100  1008  1080   11  117   12   13   14  ...  yellow  yfn  ynw  \\\n",
       "0  0.0  0.0  0.0   0.0   0.0  0.0  0.0  0.0  0.0  0.0  ...     0.0  0.0  0.0   \n",
       "1  0.0  0.0  0.0   0.0   0.0  0.0  0.0  0.0  0.0  0.0  ...     0.0  0.0  0.0   \n",
       "2  0.0  0.0  0.0   0.0   0.0  0.0  0.0  0.0  0.0  0.0  ...     0.0  0.0  0.0   \n",
       "3  0.0  0.0  0.0   0.0   0.0  0.0  0.0  0.0  0.0  0.0  ...     0.0  0.0  0.0   \n",
       "4  0.0  0.0  0.0   0.0   0.0  0.0  0.0  0.0  0.0  0.0  ...     0.0  0.0  0.0   \n",
       "\n",
       "    yo  young  youngboy  yung  yuuki  zauberfl   zu  \n",
       "0  0.0    0.0       0.0   0.0    0.0       0.0  0.0  \n",
       "1  0.0    0.0       0.0   0.0    0.0       0.0  0.0  \n",
       "2  0.0    0.0       0.0   0.0    0.0       0.0  0.0  \n",
       "3  0.0    0.0       0.0   0.0    0.0       0.0  0.0  \n",
       "4  0.0    0.0       0.0   0.0    0.0       0.0  0.0  \n",
       "\n",
       "[5 rows x 1000 columns]"
      ],
      "text/html": "<div>\n<style scoped>\n    .dataframe tbody tr th:only-of-type {\n        vertical-align: middle;\n    }\n\n    .dataframe tbody tr th {\n        vertical-align: top;\n    }\n\n    .dataframe thead th {\n        text-align: right;\n    }\n</style>\n<table border=\"1\" class=\"dataframe\">\n  <thead>\n    <tr style=\"text-align: right;\">\n      <th></th>\n      <th>03</th>\n      <th>10</th>\n      <th>100</th>\n      <th>1008</th>\n      <th>1080</th>\n      <th>11</th>\n      <th>117</th>\n      <th>12</th>\n      <th>13</th>\n      <th>14</th>\n      <th>...</th>\n      <th>yellow</th>\n      <th>yfn</th>\n      <th>ynw</th>\n      <th>yo</th>\n      <th>young</th>\n      <th>youngboy</th>\n      <th>yung</th>\n      <th>yuuki</th>\n      <th>zauberfl</th>\n      <th>zu</th>\n    </tr>\n  </thead>\n  <tbody>\n    <tr>\n      <th>0</th>\n      <td>0.0</td>\n      <td>0.0</td>\n      <td>0.0</td>\n      <td>0.0</td>\n      <td>0.0</td>\n      <td>0.0</td>\n      <td>0.0</td>\n      <td>0.0</td>\n      <td>0.0</td>\n      <td>0.0</td>\n      <td>...</td>\n      <td>0.0</td>\n      <td>0.0</td>\n      <td>0.0</td>\n      <td>0.0</td>\n      <td>0.0</td>\n      <td>0.0</td>\n      <td>0.0</td>\n      <td>0.0</td>\n      <td>0.0</td>\n      <td>0.0</td>\n    </tr>\n    <tr>\n      <th>1</th>\n      <td>0.0</td>\n      <td>0.0</td>\n      <td>0.0</td>\n      <td>0.0</td>\n      <td>0.0</td>\n      <td>0.0</td>\n      <td>0.0</td>\n      <td>0.0</td>\n      <td>0.0</td>\n      <td>0.0</td>\n      <td>...</td>\n      <td>0.0</td>\n      <td>0.0</td>\n      <td>0.0</td>\n      <td>0.0</td>\n      <td>0.0</td>\n      <td>0.0</td>\n      <td>0.0</td>\n      <td>0.0</td>\n      <td>0.0</td>\n      <td>0.0</td>\n    </tr>\n    <tr>\n      <th>2</th>\n      <td>0.0</td>\n      <td>0.0</td>\n      <td>0.0</td>\n      <td>0.0</td>\n      <td>0.0</td>\n      <td>0.0</td>\n      <td>0.0</td>\n      <td>0.0</td>\n      <td>0.0</td>\n      <td>0.0</td>\n      <td>...</td>\n      <td>0.0</td>\n      <td>0.0</td>\n      <td>0.0</td>\n      <td>0.0</td>\n      <td>0.0</td>\n      <td>0.0</td>\n      <td>0.0</td>\n      <td>0.0</td>\n      <td>0.0</td>\n      <td>0.0</td>\n    </tr>\n    <tr>\n      <th>3</th>\n      <td>0.0</td>\n      <td>0.0</td>\n      <td>0.0</td>\n      <td>0.0</td>\n      <td>0.0</td>\n      <td>0.0</td>\n      <td>0.0</td>\n      <td>0.0</td>\n      <td>0.0</td>\n      <td>0.0</td>\n      <td>...</td>\n      <td>0.0</td>\n      <td>0.0</td>\n      <td>0.0</td>\n      <td>0.0</td>\n      <td>0.0</td>\n      <td>0.0</td>\n      <td>0.0</td>\n      <td>0.0</td>\n      <td>0.0</td>\n      <td>0.0</td>\n    </tr>\n    <tr>\n      <th>4</th>\n      <td>0.0</td>\n      <td>0.0</td>\n      <td>0.0</td>\n      <td>0.0</td>\n      <td>0.0</td>\n      <td>0.0</td>\n      <td>0.0</td>\n      <td>0.0</td>\n      <td>0.0</td>\n      <td>0.0</td>\n      <td>...</td>\n      <td>0.0</td>\n      <td>0.0</td>\n      <td>0.0</td>\n      <td>0.0</td>\n      <td>0.0</td>\n      <td>0.0</td>\n      <td>0.0</td>\n      <td>0.0</td>\n      <td>0.0</td>\n      <td>0.0</td>\n    </tr>\n  </tbody>\n</table>\n<p>5 rows × 1000 columns</p>\n</div>"
     },
     "metadata": {},
     "execution_count": 21
    }
   ],
   "source": [
    "# Get feature names to use as dataframe column headers\n",
    "dtm = pd.DataFrame(dtm.todense(), columns=tfidf.get_feature_names())\n",
    "\n",
    "# View Feature Matrix as DataFrame\n",
    "print(dtm.shape)\n",
    "dtm.head()"
   ]
  },
  {
   "cell_type": "code",
   "execution_count": 22,
   "metadata": {},
   "outputs": [
    {
     "output_type": "execute_result",
     "data": {
      "text/plain": [
       "(26133, 1014)"
      ]
     },
     "metadata": {},
     "execution_count": 22
    }
   ],
   "source": [
    "combined_df=pd.concat([scaled_df, dtm], axis = 1)\n",
    "combined_df.shape"
   ]
  },
  {
   "cell_type": "markdown",
   "metadata": {},
   "source": [
    "# Similarity Recommender\n",
    "# Nearest Neighbors"
   ]
  },
  {
   "cell_type": "code",
   "execution_count": 24,
   "metadata": {},
   "outputs": [],
   "source": [
    "# Calculate Distance of TF-IDF Vectors\n",
    "from sklearn.metrics.pairwise import cosine_similarity"
   ]
  },
  {
   "cell_type": "code",
   "execution_count": 25,
   "metadata": {},
   "outputs": [],
   "source": [
    "# Calculate Distance of TF-IDF Vectors\n",
    "dist_matrix  = cosine_similarity(dtm)"
   ]
  },
  {
   "cell_type": "code",
   "execution_count": 26,
   "metadata": {},
   "outputs": [
    {
     "output_type": "stream",
     "name": "stdout",
     "text": [
      "(26133, 26133)\n"
     ]
    },
    {
     "output_type": "execute_result",
     "data": {
      "text/plain": [
       "   0        1        2      3      4      5      6      7      8      9      \\\n",
       "0    0.0  0.00000  0.00000    0.0    0.0    0.0    0.0    0.0    0.0    0.0   \n",
       "1    0.0  1.00000  0.30249    0.0    0.0    0.0    0.0    0.0    0.0    0.0   \n",
       "2    0.0  0.30249  1.00000    0.0    0.0    0.0    0.0    0.0    0.0    0.0   \n",
       "3    0.0  0.00000  0.00000    0.0    0.0    0.0    0.0    0.0    0.0    0.0   \n",
       "4    0.0  0.00000  0.00000    0.0    1.0    0.0    0.0    0.0    0.0    0.0   \n",
       "\n",
       "   ...     26123  26124  26125  26126  26127  26128  26129  26130  26131  \\\n",
       "0  ...  0.000000    0.0    0.0    0.0    0.0    0.0    0.0    0.0    0.0   \n",
       "1  ...  0.000000    0.0    0.0    0.0    0.0    0.0    0.0    0.0    0.0   \n",
       "2  ...  0.000000    0.0    0.0    0.0    0.0    0.0    0.0    0.0    0.0   \n",
       "3  ...  0.000000    0.0    0.0    0.0    0.0    0.0    0.0    0.0    0.0   \n",
       "4  ...  0.218518    0.0    0.0    0.0    0.0    0.0    0.0    0.0    0.0   \n",
       "\n",
       "      26132  \n",
       "0  0.000000  \n",
       "1  0.000000  \n",
       "2  0.362343  \n",
       "3  0.000000  \n",
       "4  0.248431  \n",
       "\n",
       "[5 rows x 26133 columns]"
      ],
      "text/html": "<div>\n<style scoped>\n    .dataframe tbody tr th:only-of-type {\n        vertical-align: middle;\n    }\n\n    .dataframe tbody tr th {\n        vertical-align: top;\n    }\n\n    .dataframe thead th {\n        text-align: right;\n    }\n</style>\n<table border=\"1\" class=\"dataframe\">\n  <thead>\n    <tr style=\"text-align: right;\">\n      <th></th>\n      <th>0</th>\n      <th>1</th>\n      <th>2</th>\n      <th>3</th>\n      <th>4</th>\n      <th>5</th>\n      <th>6</th>\n      <th>7</th>\n      <th>8</th>\n      <th>9</th>\n      <th>...</th>\n      <th>26123</th>\n      <th>26124</th>\n      <th>26125</th>\n      <th>26126</th>\n      <th>26127</th>\n      <th>26128</th>\n      <th>26129</th>\n      <th>26130</th>\n      <th>26131</th>\n      <th>26132</th>\n    </tr>\n  </thead>\n  <tbody>\n    <tr>\n      <th>0</th>\n      <td>0.0</td>\n      <td>0.00000</td>\n      <td>0.00000</td>\n      <td>0.0</td>\n      <td>0.0</td>\n      <td>0.0</td>\n      <td>0.0</td>\n      <td>0.0</td>\n      <td>0.0</td>\n      <td>0.0</td>\n      <td>...</td>\n      <td>0.000000</td>\n      <td>0.0</td>\n      <td>0.0</td>\n      <td>0.0</td>\n      <td>0.0</td>\n      <td>0.0</td>\n      <td>0.0</td>\n      <td>0.0</td>\n      <td>0.0</td>\n      <td>0.000000</td>\n    </tr>\n    <tr>\n      <th>1</th>\n      <td>0.0</td>\n      <td>1.00000</td>\n      <td>0.30249</td>\n      <td>0.0</td>\n      <td>0.0</td>\n      <td>0.0</td>\n      <td>0.0</td>\n      <td>0.0</td>\n      <td>0.0</td>\n      <td>0.0</td>\n      <td>...</td>\n      <td>0.000000</td>\n      <td>0.0</td>\n      <td>0.0</td>\n      <td>0.0</td>\n      <td>0.0</td>\n      <td>0.0</td>\n      <td>0.0</td>\n      <td>0.0</td>\n      <td>0.0</td>\n      <td>0.000000</td>\n    </tr>\n    <tr>\n      <th>2</th>\n      <td>0.0</td>\n      <td>0.30249</td>\n      <td>1.00000</td>\n      <td>0.0</td>\n      <td>0.0</td>\n      <td>0.0</td>\n      <td>0.0</td>\n      <td>0.0</td>\n      <td>0.0</td>\n      <td>0.0</td>\n      <td>...</td>\n      <td>0.000000</td>\n      <td>0.0</td>\n      <td>0.0</td>\n      <td>0.0</td>\n      <td>0.0</td>\n      <td>0.0</td>\n      <td>0.0</td>\n      <td>0.0</td>\n      <td>0.0</td>\n      <td>0.362343</td>\n    </tr>\n    <tr>\n      <th>3</th>\n      <td>0.0</td>\n      <td>0.00000</td>\n      <td>0.00000</td>\n      <td>0.0</td>\n      <td>0.0</td>\n      <td>0.0</td>\n      <td>0.0</td>\n      <td>0.0</td>\n      <td>0.0</td>\n      <td>0.0</td>\n      <td>...</td>\n      <td>0.000000</td>\n      <td>0.0</td>\n      <td>0.0</td>\n      <td>0.0</td>\n      <td>0.0</td>\n      <td>0.0</td>\n      <td>0.0</td>\n      <td>0.0</td>\n      <td>0.0</td>\n      <td>0.000000</td>\n    </tr>\n    <tr>\n      <th>4</th>\n      <td>0.0</td>\n      <td>0.00000</td>\n      <td>0.00000</td>\n      <td>0.0</td>\n      <td>1.0</td>\n      <td>0.0</td>\n      <td>0.0</td>\n      <td>0.0</td>\n      <td>0.0</td>\n      <td>0.0</td>\n      <td>...</td>\n      <td>0.218518</td>\n      <td>0.0</td>\n      <td>0.0</td>\n      <td>0.0</td>\n      <td>0.0</td>\n      <td>0.0</td>\n      <td>0.0</td>\n      <td>0.0</td>\n      <td>0.0</td>\n      <td>0.248431</td>\n    </tr>\n  </tbody>\n</table>\n<p>5 rows × 26133 columns</p>\n</div>"
     },
     "metadata": {},
     "execution_count": 26
    }
   ],
   "source": [
    "# Turn it into a DataFrame\n",
    "cosine_df = pd.DataFrame(dist_matrix)\n",
    "print(cosine_df.shape)\n",
    "cosine_df.head()"
   ]
  },
  {
   "cell_type": "code",
   "execution_count": 29,
   "metadata": {},
   "outputs": [
    {
     "output_type": "execute_result",
     "data": {
      "text/plain": [
       "artist_name                                     Panic! At The Disco\n",
       "track_id                                     0mhHHf2dn1mVXACRpmN6Zb\n",
       "track_name          Say Amen (Saturday Night) - Sweater Beats Remix\n",
       "acousticness                                                0.00291\n",
       "danceability                                                  0.549\n",
       "duration_ms                                                  188571\n",
       "energy                                                        0.713\n",
       "instrumentalness                                             0.0016\n",
       "key                                                               6\n",
       "liveness                                                     0.0406\n",
       "loudness                                                     -5.798\n",
       "mode                                                              0\n",
       "speechiness                                                   0.041\n",
       "tempo                                                       167.961\n",
       "time_signature                                                    4\n",
       "valence                                                       0.519\n",
       "popularity                                                       49\n",
       "Name: 120672, dtype: object"
      ]
     },
     "metadata": {},
     "execution_count": 29
    }
   ],
   "source": [
    "# Verify it was added\n",
    "leng = len(spotify_data)-1\n",
    "spotify_data.iloc[leng]"
   ]
  },
  {
   "cell_type": "code",
   "execution_count": 30,
   "metadata": {},
   "outputs": [
    {
     "output_type": "execute_result",
     "data": {
      "text/plain": [
       "[1238, 17361, 11059, 15492, 13055]"
      ]
     },
     "metadata": {},
     "execution_count": 30
    }
   ],
   "source": [
    "# # Grab the top 5 most similar strains to the custom strain at the start.\n",
    "last_cosine = len(cosine_df)-1\n",
    "cosine_results = cosine_df[cosine_df[0] < 1][last_cosine].sort_values(ascending=False)[1:6]\n",
    "cosine_results =  pd.DataFrame(cosine_results)\n",
    "cosine_results = cosine_results.reset_index()\n",
    "cos_results = cosine_results['index'].values.tolist()\n",
    "cos_results"
   ]
  },
  {
   "cell_type": "code",
   "execution_count": 32,
   "metadata": {},
   "outputs": [
    {
     "output_type": "stream",
     "name": "stdout",
     "text": [
      "----------------------------\n----------------------------\nSeed song:\nartist_name                                     Panic! At The Disco\ntrack_id                                     0mhHHf2dn1mVXACRpmN6Zb\ntrack_name          Say Amen (Saturday Night) - Sweater Beats Remix\nacousticness                                                0.00291\ndanceability                                                  0.549\nduration_ms                                                  188571\nenergy                                                        0.713\ninstrumentalness                                             0.0016\nkey                                                               6\nliveness                                                     0.0406\nloudness                                                     -5.798\nmode                                                              0\nspeechiness                                                   0.041\ntempo                                                       167.961\ntime_signature                                                    4\nvalence                                                       0.519\npopularity                                                       49\nName: 120672, dtype: object\n----------------------------\n----------------------------\nSimilar songs:\n----------------------------\nartist_name                         Hayley Kiyoko\ntrack_id                   6sVHgegUd9JINxxcZ2q38k\ntrack_name          Curious - Sweater Beats Remix\nacousticness                               0.0386\ndanceability                                0.712\nduration_ms                                175822\nenergy                                      0.798\ninstrumentalness                           0.0379\nkey                                             1\nliveness                                    0.161\nloudness                                   -5.265\nmode                                            0\nspeechiness                                0.0457\ntempo                                     104.025\ntime_signature                                  4\nvalence                                     0.409\npopularity                                     30\nName: 11783, dtype: object\nartist_name                           LeMarquis\ntrack_id                 3BtTmoA8dUxXZe5aKl4Fgm\ntrack_name          Up All Night - Marlin Remix\nacousticness                              0.218\ndanceability                              0.813\nduration_ms                              178250\nenergy                                    0.657\ninstrumentalness                         0.0146\nkey                                           1\nliveness                                 0.0621\nloudness                                 -8.812\nmode                                          1\nspeechiness                               0.122\ntempo                                   120.016\ntime_signature                                4\nvalence                                   0.602\npopularity                                   43\nName: 29677, dtype: object\nartist_name                         Johnnie Mikel\ntrack_id                   5bvbBmDz5RP4xgUCmJXQF5\ntrack_name          Friday Night - Sak Noel Remix\nacousticness                               0.0199\ndanceability                                0.861\nduration_ms                                192000\nenergy                                      0.653\ninstrumentalness                                0\nkey                                             9\nliveness                                   0.0757\nloudness                                   -6.313\nmode                                            0\nspeechiness                                 0.107\ntempo                                     114.978\ntime_signature                                  4\nvalence                                     0.764\npopularity                                     17\nName: 82207, dtype: object\nartist_name                                R3HAB\ntrack_id                  4TJVkLLwxkLgs2Z2UBrEF4\ntrack_name          Up All Night - Skytech Remix\nacousticness                               0.125\ndanceability                               0.665\nduration_ms                               184000\nenergy                                     0.875\ninstrumentalness                         0.00483\nkey                                            7\nliveness                                   0.495\nloudness                                  -3.685\nmode                                           0\nspeechiness                                0.168\ntempo                                    119.893\ntime_signature                                 4\nvalence                                    0.294\npopularity                                    60\nName: 102146, dtype: object\nartist_name               Crybaby Playtime\ntrack_id            39j8JuIFwB38L7hkzm74kF\ntrack_name                     Chill Beats\nacousticness                      0.000461\ndanceability                         0.609\nduration_ms                          61113\nenergy                               0.602\ninstrumentalness                     0.924\nkey                                      6\nliveness                             0.169\nloudness                           -19.566\nmode                                     1\nspeechiness                         0.0625\ntempo                              110.059\ntime_signature                           4\nvalence                                0.5\npopularity                              36\nName: 17199, dtype: object\n"
     ]
    }
   ],
   "source": [
    "# Check results\n",
    "print('----------------------------')\n",
    "print('----------------------------')\n",
    "print(f\"Seed song:\") \n",
    "print(f\"{spotify_data.iloc[leng]}\")\n",
    "print('----------------------------')\n",
    "print('----------------------------')\n",
    "print('Similar songs:')\n",
    "print('----------------------------')\n",
    "for each in cos_results:\n",
    "  print(spotify_data.iloc[each])"
   ]
  }
 ]
}